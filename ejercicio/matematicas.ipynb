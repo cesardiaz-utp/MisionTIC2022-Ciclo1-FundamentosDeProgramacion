{
 "cells": [
  {
   "attachments": {},
   "cell_type": "markdown",
   "metadata": {},
   "source": [
    "# Importar bibliotecas\n",
    "## Math(import math)\n",
    "Funciones"
   ]
  },
  {
   "cell_type": "code",
   "execution_count": 62,
   "metadata": {},
   "outputs": [
    {
     "name": "stdout",
     "output_type": "stream",
     "text": [
      "1.1\n",
      "ceil()  2\n",
      "floor()  1\n",
      "trunc()  1\n",
      "exp()  3.0041660239464334\n"
     ]
    }
   ],
   "source": [
    "import math\n",
    "a = 1.1\n",
    "print(a)\n",
    "print(\"ceil() \",math.ceil(a)) # subir al siguiente entero\n",
    "print(\"floor() \",math.floor(a)) # bajar al siguiente entero\n",
    "print(\"trunc() \",math.trunc(a)) # sin decimal\n",
    "print(\"exp() \",math.exp(a)) # exponencial"
   ]
  },
  {
   "cell_type": "code",
   "execution_count": 61,
   "metadata": {},
   "outputs": [
    {
     "name": "stdout",
     "output_type": "stream",
     "text": [
      "1.1\n",
      "ceil()  2\n",
      "floor()  1\n",
      "trunc()  1\n",
      "exp()  3.0041660239464334\n"
     ]
    }
   ],
   "source": [
    "import math as m\n",
    "a = 1.1\n",
    "print(a)\n",
    "print(\"ceil() \",m.ceil(a)) # subir al siguiente entero\n",
    "print(\"floor() \",m.floor(a)) # bajar al siguiente entero\n",
    "print(\"trunc() \",m.trunc(a)) # sin decimal\n",
    "print(\"exp() \",m.exp(a)) # exponencial"
   ]
  }
 ],
 "metadata": {
  "kernelspec": {
   "display_name": "Python 3",
   "language": "python",
   "name": "python3"
  },
  "language_info": {
   "name": "python",
   "version": "3.11.0 (main, Oct 24 2022, 18:26:48) [MSC v.1933 64 bit (AMD64)]"
  },
  "orig_nbformat": 4,
  "vscode": {
   "interpreter": {
    "hash": "2698887361352147f5dbab84dff4bf8341ec7fe3dcd9d8499425478a52be94c6"
   }
  }
 },
 "nbformat": 4,
 "nbformat_minor": 2
}
