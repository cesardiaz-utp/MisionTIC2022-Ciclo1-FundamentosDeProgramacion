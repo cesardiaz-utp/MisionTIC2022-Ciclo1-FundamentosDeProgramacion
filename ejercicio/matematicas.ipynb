{
 "cells": [
  {
   "attachments": {},
   "cell_type": "markdown",
   "metadata": {},
   "source": [
    "# Importar bibliotecas\n",
    "## Math(import math)\n",
    "Funciones"
   ]
  },
  {
   "cell_type": "code",
   "execution_count": 62,
   "metadata": {},
   "outputs": [
    {
     "name": "stdout",
     "output_type": "stream",
     "text": [
      "1.1\n",
      "ceil()  2\n",
      "floor()  1\n",
      "trunc()  1\n",
      "exp()  3.0041660239464334\n"
     ]
    }
   ],
   "source": [
    "import math\n",
    "a = 1.1\n",
    "print(a)\n",
    "print(\"ceil() \",math.ceil(a)) # subir al siguiente entero\n",
    "print(\"floor() \",math.floor(a)) # bajar al siguiente entero\n",
    "print(\"trunc() \",math.trunc(a)) # sin decimal\n",
    "print(\"exp() \",math.exp(a)) # exponencial"
   ]
  },
  {
   "cell_type": "code",
   "execution_count": 61,
   "metadata": {},
   "outputs": [
    {
     "name": "stdout",
     "output_type": "stream",
     "text": [
      "1.1\n",
      "ceil()  2\n",
      "floor()  1\n",
      "trunc()  1\n",
      "exp()  3.0041660239464334\n"
     ]
    }
   ],
   "source": [
    "import math as m\n",
    "a = 1.1\n",
    "print(a)\n",
    "print(\"ceil() \",m.ceil(a)) # subir al siguiente entero\n",
    "print(\"floor() \",m.floor(a)) # bajar al siguiente entero\n",
    "print(\"trunc() \",m.trunc(a)) # sin decimal\n",
    "print(\"exp() \",m.exp(a)) # exponencial"
   ]
  }
 ],
 "metadata": {
  "language_info": {
   "name": "python"
  },
  "orig_nbformat": 4
 },
 "nbformat": 4,
 "nbformat_minor": 2
}
