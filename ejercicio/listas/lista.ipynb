{
 "cells": [
  {
   "attachments": {},
   "cell_type": "markdown",
   "metadata": {},
   "source": [
    "# LISTAS lista[]"
   ]
  },
  {
   "cell_type": "code",
   "execution_count": 24,
   "metadata": {},
   "outputs": [
    {
     "name": "stdout",
     "output_type": "stream",
     "text": [
      "[]\n",
      "[]\n"
     ]
    }
   ],
   "source": [
    "lista1 = [] # lasta vacía\n",
    "lista2 = list() # lasta vacía \n",
    "print(lista1)\n",
    "print(lista2)"
   ]
  },
  {
   "cell_type": "code",
   "execution_count": 25,
   "metadata": {},
   "outputs": [
    {
     "name": "stdout",
     "output_type": "stream",
     "text": [
      "['h', 'o', 'l', 'a', ' ', 'm', 'u', 'n', 'd', 'o']\n",
      "[1, 2.5, 'Misión', [5, 6], {'nombre': 'Alberto', 'apellido': 'Quijano'}, True]\n"
     ]
    }
   ],
   "source": [
    "lista3 = list(\"hola mundo\")\n",
    "lista4 = [1, 2.5, \"Misión\", [5, 6 ], {\"nombre\": 'Alberto', 'apellido': 'Quijano'}, True]\n",
    "print(lista3)\n",
    "print(lista4)"
   ]
  },
  {
   "attachments": {},
   "cell_type": "markdown",
   "metadata": {},
   "source": [
    "## Navegando en la lista"
   ]
  },
  {
   "cell_type": "code",
   "execution_count": 26,
   "metadata": {},
   "outputs": [
    {
     "name": "stdout",
     "output_type": "stream",
     "text": [
      "[1, 2.5, 'Misión', [5, 6], {'nombre': 'Alberto', 'apellido': 'Quijano'}, True]\n",
      "Misión\n",
      "M\n",
      "6\n",
      "Alberto\n"
     ]
    }
   ],
   "source": [
    "lista4 = [1, 2.5, \"Misión\", [5, 6 ], {\"nombre\": 'Alberto', 'apellido': 'Quijano'}, True]\n",
    "print(lista4)\n",
    "print(lista4[2])\n",
    "print(lista4[2][0])\n",
    "print(lista4[3][1])\n",
    "print(lista4[4]['nombre'])"
   ]
  },
  {
   "attachments": {},
   "cell_type": "markdown",
   "metadata": {},
   "source": [
    "## Sublista"
   ]
  },
  {
   "cell_type": "code",
   "execution_count": 27,
   "metadata": {},
   "outputs": [
    {
     "name": "stdout",
     "output_type": "stream",
     "text": [
      "[2.5, 'Misión', [5, 6], {'nombre': 'Alberto', 'apellido': 'Quijano'}, True]\n",
      "[2.5, [5, 6], True]\n",
      "[2.5, 'Misión', [5, 6], {'nombre': 'Alberto', 'apellido': 'Quijano'}]\n",
      "['Misión', [5, 6], {'nombre': 'Alberto', 'apellido': 'Quijano'}]\n"
     ]
    }
   ],
   "source": [
    "lista4 = [1, 2.5, \"Misión\", [5, 6 ], {\"nombre\": 'Alberto', 'apellido': 'Quijano'}, True]\n",
    "print(lista4[1:6])\n",
    "print(lista4[1:6:2])\n",
    "print(lista4[1:-1])\n",
    "print(lista4[-4:-1])\n"
   ]
  },
  {
   "attachments": {},
   "cell_type": "markdown",
   "metadata": {},
   "source": [
    "## Crear una lista"
   ]
  },
  {
   "cell_type": "code",
   "execution_count": 28,
   "metadata": {},
   "outputs": [
    {
     "name": "stdout",
     "output_type": "stream",
     "text": [
      "<class 'int'>\n",
      "<class 'list'>\n",
      "['Pepe', 25]\n"
     ]
    }
   ],
   "source": [
    "nombre = \"Pepe\"\n",
    "edad = 25\n",
    "lista = [nombre, edad]\n",
    "print(type(lista[1]))\n",
    "print(type(lista))\n",
    "print(lista)"
   ]
  },
  {
   "cell_type": "code",
   "execution_count": 29,
   "metadata": {},
   "outputs": [
    {
     "name": "stdout",
     "output_type": "stream",
     "text": [
      "[['Ana', 'Bernardo'], [22.0, 50, [21, 2]]]\n",
      "[['Ana', 'Bernardo', 'Cristina'], [22.0, 50, [21, 2]]]\n"
     ]
    }
   ],
   "source": [
    "nombres = ['Ana', 'Bernardo']\n",
    "edades = [22.0, 50, [21, 2]]\n",
    "\n",
    "lista = [nombres, edades]\n",
    "print(lista)\n",
    "\n",
    "nombres += [\"Cristina\"]\n",
    "print(lista)"
   ]
  },
  {
   "attachments": {},
   "cell_type": "markdown",
   "metadata": {},
   "source": [
    "## Recorrido de los elementos de una lista\n",
    "sep= separar\n",
    "isindatance(x, int) = valida si un elemento tiene una determinada característica -> isinstance(x es int) arrojando un booleano "
   ]
  },
  {
   "cell_type": "code",
   "execution_count": 30,
   "metadata": {},
   "outputs": [
    {
     "name": "stdout",
     "output_type": "stream",
     "text": [
      "[['Ana', 'Bernardo', 'Cristina'], [22.0, 50, [21, 2]]]\n",
      "['Ana', 'Bernardo', 'Cristina']->3\n",
      "Ana->3\n",
      "Bernardo->8\n",
      "Cristina->8\n",
      "[22.0, 50, [21, 2]]->3\n",
      "22.0 No es una coleccion\n",
      "50 No es una coleccion\n",
      "[21, 2]->2\n"
     ]
    }
   ],
   "source": [
    "print(lista)\n",
    "\n",
    "for elemento in lista:\n",
    "    tam = len(elemento)\n",
    "    print(elemento, tam, sep= \"->\")\n",
    "    if tam > 0:\n",
    "        for dato in elemento:\n",
    "            if isinstance(dato, int) or isinstance(dato, float):\n",
    "                print(dato, \"No es una coleccion\")\n",
    "            else:\n",
    "                print(dato, len(dato), sep= \"->\")"
   ]
  },
  {
   "attachments": {},
   "cell_type": "markdown",
   "metadata": {},
   "source": [
    "## Métodos"
   ]
  },
  {
   "attachments": {},
   "cell_type": "markdown",
   "metadata": {},
   "source": [
    "## Agregar elementos a una lista"
   ]
  },
  {
   "cell_type": "code",
   "execution_count": 31,
   "metadata": {},
   "outputs": [
    {
     "name": "stdout",
     "output_type": "stream",
     "text": [
      "[2.5, 3.6, 4, 5, 6]\n",
      "[2.5, 3.6, 4, 5, 6, 5]\n",
      "[2.5, 3.6, 4, 5, 6, 5, 7]\n"
     ]
    }
   ],
   "source": [
    "versiones = [2.5, 3.6, 4, 5]\n",
    "\n",
    "versiones = versiones + [6]\n",
    "print(versiones)\n",
    "\n",
    "versiones += [5]\n",
    "print(versiones)\n",
    "\n",
    "versiones.append(7)\n",
    "print(versiones)\n",
    "\n",
    "\n",
    "\n"
   ]
  },
  {
   "attachments": {},
   "cell_type": "markdown",
   "metadata": {},
   "source": [
    "## Contar elementos repetidos"
   ]
  },
  {
   "cell_type": "code",
   "execution_count": 32,
   "metadata": {},
   "outputs": [
    {
     "name": "stdout",
     "output_type": "stream",
     "text": [
      "5 -> 2 \n"
     ]
    }
   ],
   "source": [
    "contar_repetidos = versiones.count(5)\n",
    "print(f\"5 -> {contar_repetidos} \")"
   ]
  },
  {
   "attachments": {},
   "cell_type": "markdown",
   "metadata": {},
   "source": [
    "## Extender la lista con otra secuencia (colección)"
   ]
  },
  {
   "cell_type": "code",
   "execution_count": 33,
   "metadata": {},
   "outputs": [
    {
     "name": "stdout",
     "output_type": "stream",
     "text": [
      "[2.5, 3.6, 4, 5, 6, 5, 7, 4, 8, 9]\n",
      "[2.5, 3.6, 4, 5, 6, 5, 7, 4, 8, 9, 5, 6]\n"
     ]
    }
   ],
   "source": [
    "versiones.extend([4, 8, 9])\n",
    "print(versiones)\n",
    "\n",
    "versiones.extend(range(5, 7))\n",
    "print(versiones)"
   ]
  },
  {
   "attachments": {},
   "cell_type": "markdown",
   "metadata": {},
   "source": [
    "## Encontrar la posición de un elemento"
   ]
  },
  {
   "cell_type": "code",
   "execution_count": 34,
   "metadata": {},
   "outputs": [
    {
     "name": "stdout",
     "output_type": "stream",
     "text": [
      "2\n",
      "7\n"
     ]
    },
    {
     "ename": "ValueError",
     "evalue": "4 is not in list",
     "output_type": "error",
     "traceback": [
      "\u001b[1;31m---------------------------------------------------------------------------\u001b[0m",
      "\u001b[1;31mValueError\u001b[0m                                Traceback (most recent call last)",
      "Cell \u001b[1;32mIn[34], line 5\u001b[0m\n\u001b[0;32m      3\u001b[0m pos2 \u001b[39m=\u001b[39m versiones\u001b[39m.\u001b[39mindex(\u001b[39m4\u001b[39m, pos1\u001b[39m+\u001b[39m\u001b[39m1\u001b[39m)\n\u001b[0;32m      4\u001b[0m \u001b[39mprint\u001b[39m(pos2)\n\u001b[1;32m----> 5\u001b[0m pos3 \u001b[39m=\u001b[39m versiones\u001b[39m.\u001b[39;49mindex(\u001b[39m4\u001b[39;49m, pos2\u001b[39m+\u001b[39;49m\u001b[39m1\u001b[39;49m)\n\u001b[0;32m      6\u001b[0m \u001b[39mprint\u001b[39m(pos3)\n\u001b[0;32m      7\u001b[0m pos4 \u001b[39m=\u001b[39m versiones\u001b[39m.\u001b[39mindex(\u001b[39m4\u001b[39m, pos3\u001b[39m+\u001b[39m\u001b[39m1\u001b[39m)\n",
      "\u001b[1;31mValueError\u001b[0m: 4 is not in list"
     ]
    }
   ],
   "source": [
    "pos1 = versiones.index(4) \n",
    "print(pos1)\n",
    "pos2 = versiones.index(4, pos1+1)\n",
    "print(pos2)\n",
    "pos3 = versiones.index(4, pos2+1)\n",
    "print(pos3)\n",
    "pos4 = versiones.index(4, pos3+1)\n",
    "print(pos4)"
   ]
  },
  {
   "attachments": {},
   "cell_type": "markdown",
   "metadata": {},
   "source": [
    "## Insertar un elemento en una posición en la lista"
   ]
  },
  {
   "cell_type": "code",
   "execution_count": null,
   "metadata": {},
   "outputs": [
    {
     "name": "stdout",
     "output_type": "stream",
     "text": [
      "[2.5, 3.6, 4, 5, 6, 5, 7, 4, 8, 9, 5, 6]\n",
      "[2.5, 3.6, 3.7, 4, 5, 6, 5, 7, 4, 8, 9, 5, 6]\n"
     ]
    }
   ],
   "source": [
    "print(versiones)\n",
    "versiones.insert(2, 3.7)\n",
    "print(versiones)"
   ]
  },
  {
   "attachments": {},
   "cell_type": "markdown",
   "metadata": {},
   "source": [
    "## Eliminar el ultimo elemento de la lista"
   ]
  },
  {
   "cell_type": "code",
   "execution_count": 35,
   "metadata": {},
   "outputs": [
    {
     "name": "stdout",
     "output_type": "stream",
     "text": [
      "Extrae 6 y queda [2.5, 3.6, 4, 5, 6, 5, 7, 4, 8, 9, 5]\n"
     ]
    }
   ],
   "source": [
    "ultimo = versiones.pop()\n",
    "print(f\"Extrae {ultimo} y queda {versiones}\")\n",
    "\n"
   ]
  },
  {
   "cell_type": "code",
   "execution_count": 36,
   "metadata": {},
   "outputs": [
    {
     "name": "stdout",
     "output_type": "stream",
     "text": [
      "Extrae 5 y queda [2.5, 3.6, 4, 5, 6, 7, 4, 8, 9, 5]\n"
     ]
    }
   ],
   "source": [
    "ultimo = versiones.pop(5)\n",
    "print(f\"Extrae {ultimo} y queda {versiones}\")"
   ]
  },
  {
   "attachments": {},
   "cell_type": "markdown",
   "metadata": {},
   "source": [
    "## Elimina un elemento dentro de la lista (enviando el elemento)"
   ]
  },
  {
   "cell_type": "code",
   "execution_count": 37,
   "metadata": {},
   "outputs": [
    {
     "name": "stdout",
     "output_type": "stream",
     "text": [
      "[3.6, 4, 5, 6, 7, 4, 8, 9, 5]\n",
      "[3.6, 5, 6, 7, 4, 8, 9, 5]\n"
     ]
    }
   ],
   "source": [
    "versiones.remove(2.5)\n",
    "print(versiones)\n",
    "versiones.remove(4)\n",
    "print(versiones)"
   ]
  },
  {
   "attachments": {},
   "cell_type": "markdown",
   "metadata": {},
   "source": [
    "## Invertir una lista"
   ]
  },
  {
   "cell_type": "code",
   "execution_count": 38,
   "metadata": {},
   "outputs": [
    {
     "name": "stdout",
     "output_type": "stream",
     "text": [
      "[3.6, 5, 6, 7, 4, 8, 9, 5]\n",
      "[5, 9, 8, 4, 7, 6, 5, 3.6]\n"
     ]
    }
   ],
   "source": [
    "print(versiones)\n",
    "versiones.reverse()\n",
    "print(versiones)"
   ]
  },
  {
   "attachments": {},
   "cell_type": "markdown",
   "metadata": {},
   "source": [
    "## Ordenar la lista"
   ]
  },
  {
   "cell_type": "code",
   "execution_count": 39,
   "metadata": {},
   "outputs": [
    {
     "name": "stdout",
     "output_type": "stream",
     "text": [
      "[3.6, 4, 5, 5, 6, 7, 8, 9]\n"
     ]
    }
   ],
   "source": [
    "versiones.sort()\n",
    "print(versiones)"
   ]
  },
  {
   "cell_type": "code",
   "execution_count": 40,
   "metadata": {},
   "outputs": [
    {
     "name": "stdout",
     "output_type": "stream",
     "text": [
      "[3.6, 4, 5, 5, 6, 7, 8, 9]\n",
      "[9, 8, 7, 6, 5, 5, 4, 3.6]\n"
     ]
    }
   ],
   "source": [
    "print(versiones)\n",
    "versiones.sort(reverse=True)\n",
    "print(versiones)"
   ]
  },
  {
   "attachments": {},
   "cell_type": "markdown",
   "metadata": {},
   "source": [
    "## Borra todo el contenido de la lista"
   ]
  },
  {
   "cell_type": "code",
   "execution_count": 41,
   "metadata": {},
   "outputs": [
    {
     "name": "stdout",
     "output_type": "stream",
     "text": [
      "[]\n"
     ]
    }
   ],
   "source": [
    "versiones.clear()\n",
    "print(versiones)"
   ]
  },
  {
   "attachments": {},
   "cell_type": "markdown",
   "metadata": {},
   "source": [
    "## Eliminar variable de Python"
   ]
  },
  {
   "cell_type": "code",
   "execution_count": 42,
   "metadata": {},
   "outputs": [
    {
     "ename": "NameError",
     "evalue": "name 'versiones' is not defined",
     "output_type": "error",
     "traceback": [
      "\u001b[1;31m---------------------------------------------------------------------------\u001b[0m",
      "\u001b[1;31mNameError\u001b[0m                                 Traceback (most recent call last)",
      "Cell \u001b[1;32mIn[42], line 2\u001b[0m\n\u001b[0;32m      1\u001b[0m \u001b[39mdel\u001b[39;00m versiones\n\u001b[1;32m----> 2\u001b[0m \u001b[39mprint\u001b[39m(versiones)\n",
      "\u001b[1;31mNameError\u001b[0m: name 'versiones' is not defined"
     ]
    }
   ],
   "source": [
    "del versiones\n",
    "print(versiones)"
   ]
  },
  {
   "attachments": {},
   "cell_type": "markdown",
   "metadata": {},
   "source": [
    "## Todos los métodos y atributos de las lisa"
   ]
  },
  {
   "cell_type": "code",
   "execution_count": 46,
   "metadata": {},
   "outputs": [
    {
     "name": "stdout",
     "output_type": "stream",
     "text": [
      "['__add__', '__class__', '__class_getitem__', '__contains__', '__delattr__', '__delitem__', '__dir__', '__doc__', '__eq__', '__format__', '__ge__', '__getattribute__', '__getitem__', '__getstate__', '__gt__', '__hash__', '__iadd__', '__imul__', '__init__', '__init_subclass__', '__iter__', '__le__', '__len__', '__lt__', '__mul__', '__ne__', '__new__', '__reduce__', '__reduce_ex__', '__repr__', '__reversed__', '__rmul__', '__setattr__', '__setitem__', '__sizeof__', '__str__', '__subclasshook__', 'append', 'clear', 'copy', 'count', 'extend', 'index', 'insert', 'pop', 'remove', 'reverse', 'sort']\n"
     ]
    }
   ],
   "source": [
    "\n",
    "print(dir(list()))"
   ]
  },
  {
   "attachments": {},
   "cell_type": "markdown",
   "metadata": {},
   "source": [
    "## Funciones útiles para crear una lista"
   ]
  },
  {
   "cell_type": "code",
   "execution_count": 47,
   "metadata": {},
   "outputs": [
    {
     "name": "stdout",
     "output_type": "stream",
     "text": [
      "['H', 'o', 'l', 'a', ' ', 'c', 'o', 'm', 'o', ' ', 'e', 's', 't', 'a', 's', ' ', 't', 'u', '?']\n"
     ]
    }
   ],
   "source": [
    "mensaje = \"Hola como estas tu?\"\n",
    "lista = list(mensaje)\n",
    "print(lista)"
   ]
  },
  {
   "cell_type": "code",
   "execution_count": 48,
   "metadata": {},
   "outputs": [
    {
     "name": "stdout",
     "output_type": "stream",
     "text": [
      "['Hola', 'como', 'estas', 'tu?']\n"
     ]
    }
   ],
   "source": [
    "lista = mensaje.split()\n",
    "print(lista)"
   ]
  }
 ],
 "metadata": {
  "kernelspec": {
   "display_name": "Python 3",
   "language": "python",
   "name": "python3"
  },
  "language_info": {
   "codemirror_mode": {
    "name": "ipython",
    "version": 3
   },
   "file_extension": ".py",
   "mimetype": "text/x-python",
   "name": "python",
   "nbconvert_exporter": "python",
   "pygments_lexer": "ipython3",
   "version": "3.11.0"
  },
  "orig_nbformat": 4,
  "vscode": {
   "interpreter": {
    "hash": "2698887361352147f5dbab84dff4bf8341ec7fe3dcd9d8499425478a52be94c6"
   }
  }
 },
 "nbformat": 4,
 "nbformat_minor": 2
}
