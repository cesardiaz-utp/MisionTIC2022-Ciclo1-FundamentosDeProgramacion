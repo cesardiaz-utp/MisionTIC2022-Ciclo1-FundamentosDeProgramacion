{
 "cells": [
  {
   "attachments": {},
   "cell_type": "markdown",
   "metadata": {},
   "source": [
    "# CONJUNTOS {}"
   ]
  },
  {
   "cell_type": "code",
   "execution_count": 1,
   "metadata": {},
   "outputs": [
    {
     "name": "stdout",
     "output_type": "stream",
     "text": [
      "<class 'set'>\n",
      "set()\n"
     ]
    }
   ],
   "source": [
    "conjunto = set()\n",
    "print(type(conjunto))\n",
    "print(conjunto)"
   ]
  },
  {
   "cell_type": "code",
   "execution_count": 12,
   "metadata": {},
   "outputs": [
    {
     "name": "stdout",
     "output_type": "stream",
     "text": [
      "{'H', 'M', 'd', 'u', 'l', '!', 'o', 'a', ' ', 'n'}\n",
      "{'H', 'M', 'd', 'u', 'l', '!', 'o', 'a', ' ', 'n'}\n"
     ]
    }
   ],
   "source": [
    "conjunto = set(\"Hola Mundo!\")\n",
    "print(conjunto)\n",
    "\n",
    "\n",
    "conjunto1 = set(\"Hola Mundo!\")\n",
    "print(conjunto1)"
   ]
  },
  {
   "cell_type": "code",
   "execution_count": 8,
   "metadata": {},
   "outputs": [
    {
     "name": "stdout",
     "output_type": "stream",
     "text": [
      "{1, 2, 3, 4}\n",
      "<class 'set'>\n"
     ]
    }
   ],
   "source": [
    "conjunto = {1, 2, 3, 4}\n",
    "print(conjunto)\n",
    "print(type(conjunto))\n"
   ]
  },
  {
   "cell_type": "code",
   "execution_count": 13,
   "metadata": {},
   "outputs": [
    {
     "name": "stdout",
     "output_type": "stream",
     "text": [
      "{1, 2, 3, 4}\n",
      "<class 'set'>\n"
     ]
    }
   ],
   "source": [
    "conjunto = set([1, 2, 3, 4, 4, 2])\n",
    "print(conjunto)\n",
    "print(type(conjunto))"
   ]
  },
  {
   "attachments": {},
   "cell_type": "markdown",
   "metadata": {},
   "source": [
    "## Navegar por los conjuntos"
   ]
  },
  {
   "cell_type": "code",
   "execution_count": 14,
   "metadata": {},
   "outputs": [
    {
     "name": "stdout",
     "output_type": "stream",
     "text": [
      "1\n",
      "2\n",
      "3\n",
      "4\n"
     ]
    }
   ],
   "source": [
    "conjunto = set([1, 2, 3, 4, 4, 2])\n",
    "for numero in conjunto:\n",
    "    print(numero)\n"
   ]
  },
  {
   "attachments": {},
   "cell_type": "markdown",
   "metadata": {},
   "source": [
    "## Métodos de los conjuntos"
   ]
  },
  {
   "cell_type": "code",
   "execution_count": 16,
   "metadata": {},
   "outputs": [
    {
     "name": "stdout",
     "output_type": "stream",
     "text": [
      "{1, 2, 3, 4, 5, 7, 11}\n",
      "{1, 2, 3, 4, 5, 7, 11, 22.00001}\n"
     ]
    }
   ],
   "source": [
    "conjunto = set([4, 3, 11, 7, 5, 2, 1, 4])\n",
    "print(conjunto)\n",
    "conjunto.add(22.00001)\n",
    "print(conjunto)"
   ]
  },
  {
   "cell_type": "code",
   "execution_count": 17,
   "metadata": {},
   "outputs": [
    {
     "name": "stdout",
     "output_type": "stream",
     "text": [
      "set()\n"
     ]
    }
   ],
   "source": [
    "conjunto.clear()\n",
    "print(conjunto)"
   ]
  },
  {
   "cell_type": "code",
   "execution_count": 25,
   "metadata": {},
   "outputs": [
    {
     "name": "stdout",
     "output_type": "stream",
     "text": [
      "{True, 'carro', 4.0}\n",
      "{True, 'carro', 4.0}\n",
      "En contenido SI es igual 'conjunto == otro_conjunto': True \n",
      "En memoria NO es igual 'conjunto is otro_conjunto': False \n"
     ]
    }
   ],
   "source": [
    "conjunto = set([4.0, 'carro', True])\n",
    "otro_conjunto = conjunto.copy()\n",
    "print(conjunto)\n",
    "print(otro_conjunto)\n",
    "print(f\"En contenido SI es igual 'conjunto == otro_conjunto': {conjunto == otro_conjunto} \")\n",
    "print(f\"En memoria NO es igual 'conjunto is otro_conjunto': {conjunto is otro_conjunto} \")\n",
    "\n"
   ]
  },
  {
   "cell_type": "code",
   "execution_count": 24,
   "metadata": {},
   "outputs": [
    {
     "name": "stdout",
     "output_type": "stream",
     "text": [
      "{True, 4.0}\n",
      "{True, 'carro', 4.0}\n"
     ]
    }
   ],
   "source": [
    "conjunto.discard(\"carro\")\n",
    "print(conjunto)\n",
    "print(otro_conjunto)"
   ]
  },
  {
   "attachments": {},
   "cell_type": "markdown",
   "metadata": {},
   "source": [
    "## Operaciones de conjunto"
   ]
  },
  {
   "cell_type": "code",
   "execution_count": 29,
   "metadata": {},
   "outputs": [
    {
     "name": "stdout",
     "output_type": "stream",
     "text": [
      "{1, 2, 3, 4, 5, 7, 11}\n",
      "{2, 4, 5, 8, 9, 11}\n",
      "union: {1, 2, 3, 4, 5, 7, 8, 9, 11}\n",
      "intersección: {2, 11, 4, 5}\n",
      "diferencia conjunto1: {1, 3, 7}\n",
      "diferencia conjunto2: {8, 9}\n"
     ]
    }
   ],
   "source": [
    "conjunto1 = set([4, 3, 11, 7, 5, 2, 1, 4])\n",
    "conjunto2 = set([11, 5, 9, 2, 4, 8])\n",
    "print(conjunto1)\n",
    "print(conjunto2)\n",
    "union_conjunto = conjunto1.union(conjunto2)\n",
    "print(f\"union: {union_conjunto}\")\n",
    "interseccion = conjunto1.intersection(conjunto2)\n",
    "print(f\"intersección: {interseccion}\")\n",
    "diferencia = conjunto1.difference(conjunto2)\n",
    "print(f\"diferencia conjunto1: {diferencia}\")\n",
    "diferencia = conjunto2.difference(conjunto1)\n",
    "print(f\"diferencia conjunto2: {diferencia}\")"
   ]
  },
  {
   "attachments": {},
   "cell_type": "markdown",
   "metadata": {},
   "source": [
    "## Atributos de los conjuntos"
   ]
  },
  {
   "cell_type": "code",
   "execution_count": 30,
   "metadata": {},
   "outputs": [
    {
     "name": "stdout",
     "output_type": "stream",
     "text": [
      "['__and__', '__class__', '__class_getitem__', '__contains__', '__delattr__', '__dir__', '__doc__', '__eq__', '__format__', '__ge__', '__getattribute__', '__getstate__', '__gt__', '__hash__', '__iand__', '__init__', '__init_subclass__', '__ior__', '__isub__', '__iter__', '__ixor__', '__le__', '__len__', '__lt__', '__ne__', '__new__', '__or__', '__rand__', '__reduce__', '__reduce_ex__', '__repr__', '__ror__', '__rsub__', '__rxor__', '__setattr__', '__sizeof__', '__str__', '__sub__', '__subclasshook__', '__xor__', 'add', 'clear', 'copy', 'difference', 'difference_update', 'discard', 'intersection', 'intersection_update', 'isdisjoint', 'issubset', 'issuperset', 'pop', 'remove', 'symmetric_difference', 'symmetric_difference_update', 'union', 'update']\n"
     ]
    }
   ],
   "source": [
    "print(dir(set()))"
   ]
  },
  {
   "attachments": {},
   "cell_type": "markdown",
   "metadata": {},
   "source": [
    "## Conjunto inmutable\n",
    "* son inmutable\n",
    "* se puede hacer operaciones"
   ]
  },
  {
   "cell_type": "code",
   "execution_count": 32,
   "metadata": {},
   "outputs": [
    {
     "name": "stdout",
     "output_type": "stream",
     "text": [
      "frozenset({True, 'carro', 4.0})\n",
      "<class 'frozenset'>\n"
     ]
    },
    {
     "ename": "AttributeError",
     "evalue": "'frozenset' object has no attribute 'add'",
     "output_type": "error",
     "traceback": [
      "\u001b[1;31m---------------------------------------------------------------------------\u001b[0m",
      "\u001b[1;31mAttributeError\u001b[0m                            Traceback (most recent call last)",
      "Cell \u001b[1;32mIn[32], line 4\u001b[0m\n\u001b[0;32m      2\u001b[0m \u001b[39mprint\u001b[39m(inmutable)\n\u001b[0;32m      3\u001b[0m \u001b[39mprint\u001b[39m(\u001b[39mtype\u001b[39m(inmutable))\n\u001b[1;32m----> 4\u001b[0m inmutable\u001b[39m.\u001b[39;49madd(\u001b[39m22.001\u001b[39m)\n",
      "\u001b[1;31mAttributeError\u001b[0m: 'frozenset' object has no attribute 'add'"
     ]
    }
   ],
   "source": [
    "inmutable = frozenset([4.0, 'carro', True])\n",
    "print(inmutable)\n",
    "print(type(inmutable))\n",
    "inmutable.add(22.001)"
   ]
  },
  {
   "cell_type": "code",
   "execution_count": 36,
   "metadata": {},
   "outputs": [
    {
     "name": "stdout",
     "output_type": "stream",
     "text": [
      "<class 'frozenset'>\n",
      "['__and__', '__class__', '__class_getitem__', '__contains__', '__delattr__', '__dir__', '__doc__', '__eq__', '__format__', '__ge__', '__getattribute__', '__getstate__', '__gt__', '__hash__', '__init__', '__init_subclass__', '__iter__', '__le__', '__len__', '__lt__', '__ne__', '__new__', '__or__', '__rand__', '__reduce__', '__reduce_ex__', '__repr__', '__ror__', '__rsub__', '__rxor__', '__setattr__', '__sizeof__', '__str__', '__sub__', '__subclasshook__', '__xor__', 'copy', 'difference', 'intersection', 'isdisjoint', 'issubset', 'issuperset', 'symmetric_difference', 'union'] \n",
      "\n",
      "<class 'set'>\n",
      "['__and__', '__class__', '__class_getitem__', '__contains__', '__delattr__', '__dir__', '__doc__', '__eq__', '__format__', '__ge__', '__getattribute__', '__getstate__', '__gt__', '__hash__', '__iand__', '__init__', '__init_subclass__', '__ior__', '__isub__', '__iter__', '__ixor__', '__le__', '__len__', '__lt__', '__ne__', '__new__', '__or__', '__rand__', '__reduce__', '__reduce_ex__', '__repr__', '__ror__', '__rsub__', '__rxor__', '__setattr__', '__sizeof__', '__str__', '__sub__', '__subclasshook__', '__xor__', 'add', 'clear', 'copy', 'difference', 'difference_update', 'discard', 'intersection', 'intersection_update', 'isdisjoint', 'issubset', 'issuperset', 'pop', 'remove', 'symmetric_difference', 'symmetric_difference_update', 'union', 'update']\n"
     ]
    }
   ],
   "source": [
    "print(type(inmutable))\n",
    "print(dir(frozenset()), \"\\n\")\n",
    "print(type(conjunto1))\n",
    "print(dir(set()))\n"
   ]
  }
 ],
 "metadata": {
  "kernelspec": {
   "display_name": "Python 3",
   "language": "python",
   "name": "python3"
  },
  "language_info": {
   "codemirror_mode": {
    "name": "ipython",
    "version": 3
   },
   "file_extension": ".py",
   "mimetype": "text/x-python",
   "name": "python",
   "nbconvert_exporter": "python",
   "pygments_lexer": "ipython3",
   "version": "3.11.0 (main, Oct 24 2022, 18:26:48) [MSC v.1933 64 bit (AMD64)]"
  },
  "orig_nbformat": 4,
  "vscode": {
   "interpreter": {
    "hash": "2698887361352147f5dbab84dff4bf8341ec7fe3dcd9d8499425478a52be94c6"
   }
  }
 },
 "nbformat": 4,
 "nbformat_minor": 2
}
