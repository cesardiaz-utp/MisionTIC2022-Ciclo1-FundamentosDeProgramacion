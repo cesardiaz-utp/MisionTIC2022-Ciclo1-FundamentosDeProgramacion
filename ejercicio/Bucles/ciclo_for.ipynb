{
 "cells": [
  {
   "attachments": {},
   "cell_type": "markdown",
   "metadata": {},
   "source": [
    "# CICLO for()"
   ]
  },
  {
   "attachments": {},
   "cell_type": "markdown",
   "metadata": {},
   "source": [
    "for <variable> in <secuencia>: \n",
    "    <cuerpo>"
   ]
  },
  {
   "cell_type": "code",
   "execution_count": 1,
   "metadata": {},
   "outputs": [
    {
     "name": "stdout",
     "output_type": "stream",
     "text": [
      "Estamos en la iteración: 0\n",
      "Estamos en la iteración: 1\n",
      "Estamos en la iteración: 2\n"
     ]
    }
   ],
   "source": [
    "for x in range(0,3):\n",
    "    print(f\"Estamos en la iteración: {x}\")\n",
    "    \n",
    "    "
   ]
  },
  {
   "cell_type": "code",
   "execution_count": 2,
   "metadata": {},
   "outputs": [
    {
     "name": "stdout",
     "output_type": "stream",
     "text": [
      "Estamos en la iteración: 0\n",
      "Estamos en la iteración: 2\n",
      "Estamos en la iteración: 4\n",
      "Estamos en la iteración: 6\n",
      "Estamos en la iteración: 8\n"
     ]
    }
   ],
   "source": [
    "for x in range(0, 10, 2):\n",
    "    print(f\"Estamos en la iteración: {x}\")"
   ]
  },
  {
   "cell_type": "code",
   "execution_count": 3,
   "metadata": {},
   "outputs": [
    {
     "name": "stdout",
     "output_type": "stream",
     "text": [
      "Estamos en la iteración: 10\n",
      "Estamos en la iteración: 8\n",
      "Estamos en la iteración: 6\n",
      "Estamos en la iteración: 4\n",
      "Estamos en la iteración: 2\n"
     ]
    }
   ],
   "source": [
    "for x in range(10, 0, -2):\n",
    "    print(f\"Estamos en la iteración: {x}\")"
   ]
  },
  {
   "cell_type": "code",
   "execution_count": 9,
   "metadata": {},
   "outputs": [
    {
     "name": "stdout",
     "output_type": "stream",
     "text": [
      "la oración analizada es: Mary entiende muy bien Python .\n",
      "\n",
      "['Mary', 'entiende', 'muy', 'bien', 'Python'] .\n",
      "\n",
      "Palabra: Mary, en la frase su posición es: 0 \n",
      "Palabra: entiende, en la frase su posición es: 1 \n",
      "Palabra: muy, en la frase su posición es: 2 \n",
      "Palabra: bien, en la frase su posición es: 3 \n",
      "Palabra: Python, en la frase su posición es: 4 \n"
     ]
    }
   ],
   "source": [
    "oracion = \"Mary entiende muy bien Python\"\n",
    "frase = oracion.split()\n",
    "print(f\"la oración analizada es: {oracion}\", '.\\n') \n",
    "print(frase, '.\\n' )\n",
    "for palabra in range(len(frase)):\n",
    "    print(f\"Palabra: {frase[palabra]}, en la frase su posición es: {palabra} \")"
   ]
  },
  {
   "attachments": {},
   "cell_type": "markdown",
   "metadata": {},
   "source": [
    "## Ciclo for() en Diccionarios"
   ]
  },
  {
   "cell_type": "code",
   "execution_count": 10,
   "metadata": {},
   "outputs": [
    {
     "name": "stdout",
     "output_type": "stream",
     "text": [
      "Fresas es de color roja\n",
      "Limon es de color verde\n",
      "Papaya es de color naranja\n",
      "Manzana es de color amarilla\n",
      "Guayaba es de color rosa\n"
     ]
    }
   ],
   "source": [
    "frutas = {\n",
    "    \"Fresas\": \"roja\",\n",
    "    \"Limon\": \"verde\",\n",
    "    \"Papaya\": \"naranja\",\n",
    "    \"Manzana\": \"amarilla\",\n",
    "    \"Guayaba\": \"rosa\"}\n",
    "for nombre in frutas:\n",
    "    print(f\"{nombre} es de color {frutas[nombre]}\")"
   ]
  },
  {
   "cell_type": "code",
   "execution_count": 27,
   "metadata": {},
   "outputs": [
    {
     "name": "stdout",
     "output_type": "stream",
     "text": [
      "dict_items([('Fresas_', 'roja'), ('Limon_', 'verde'), ('Papaya_', 'naranja'), ('Manzana_', 'amarilla'), ('Guayaba_', 'rosa')])\n",
      "<class 'dict_items'>\n",
      "Fresas. es de color roja\n",
      "clave Fresas.   : valor roja .\n",
      "\n",
      "Limon. es de color verde\n",
      "clave Limon.    : valor verde .\n",
      "\n",
      "Papaya. es de color naranja\n",
      "clave Papaya.   : valor naranja .\n",
      "\n",
      "Manzana. es de color amarilla\n",
      "clave Manzana.  : valor amarilla .\n",
      "\n",
      "Guayaba. es de color rosa\n",
      "clave Guayaba.  : valor rosa .\n",
      "\n"
     ]
    }
   ],
   "source": [
    "frutas = {\n",
    "    \"Fresas_\": \"roja\",\n",
    "    \"Limon_\": \"verde\",\n",
    "    \"Papaya_\": \"naranja\",\n",
    "    \"Manzana_\": \"amarilla\",\n",
    "    \"Guayaba_\": \"rosa\"}\n",
    "print(frutas.items())\n",
    "print(type(frutas.items()))\n",
    "for nombre, color in frutas.items():\n",
    "    nombre = nombre.replace(\"_\", \".\")\n",
    "    print(f\"{nombre} es de color {color}\")\n",
    "    print(f\"clave {nombre.capitalize():10}: valor {color}\", \".\\n\")"
   ]
  },
  {
   "attachments": {},
   "cell_type": "markdown",
   "metadata": {},
   "source": [
    "## Extraer las vocales de un mensaje"
   ]
  },
  {
   "cell_type": "code",
   "execution_count": 6,
   "metadata": {},
   "outputs": [
    {
     "name": "stdout",
     "output_type": "stream",
     "text": [
      "o A o O e a u "
     ]
    }
   ],
   "source": [
    "mensaje = \"HolA comO estas tu?\"\n",
    "vocales = \"aeiou\"\n",
    "for letras in mensaje:\n",
    "    if letras.lower() in vocales:\n",
    "        print(letras, end= \" \")"
   ]
  },
  {
   "attachments": {},
   "cell_type": "markdown",
   "metadata": {},
   "source": [
    "## Extraer las consonantes de un mensaje"
   ]
  },
  {
   "cell_type": "code",
   "execution_count": 9,
   "metadata": {},
   "outputs": [
    {
     "name": "stdout",
     "output_type": "stream",
     "text": [
      "H l c m s t s t "
     ]
    }
   ],
   "source": [
    "mensaje = \"HolA comO estas tu?\"\n",
    "vocales = \"aeiou\"\n",
    "for letras in mensaje:\n",
    "    if letras.lower() not in vocales and letras.isalpha():\n",
    "        print(letras, end= \" \")"
   ]
  }
 ],
 "metadata": {
  "kernelspec": {
   "display_name": "Python 3",
   "language": "python",
   "name": "python3"
  },
  "language_info": {
   "codemirror_mode": {
    "name": "ipython",
    "version": 3
   },
   "file_extension": ".py",
   "mimetype": "text/x-python",
   "name": "python",
   "nbconvert_exporter": "python",
   "pygments_lexer": "ipython3",
   "version": "3.11.0"
  },
  "orig_nbformat": 4,
  "vscode": {
   "interpreter": {
    "hash": "2698887361352147f5dbab84dff4bf8341ec7fe3dcd9d8499425478a52be94c6"
   }
  }
 },
 "nbformat": 4,
 "nbformat_minor": 2
}
