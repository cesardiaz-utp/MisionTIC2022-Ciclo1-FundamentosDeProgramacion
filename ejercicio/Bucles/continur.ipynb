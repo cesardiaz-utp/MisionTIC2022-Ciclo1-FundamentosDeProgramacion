{
 "cells": [
  {
   "attachments": {},
   "cell_type": "markdown",
   "metadata": {},
   "source": [
    "# Sentencia continue()"
   ]
  },
  {
   "cell_type": "code",
   "execution_count": 7,
   "metadata": {},
   "outputs": [
    {
     "name": "stdout",
     "output_type": "stream",
     "text": [
      "Actual valor de la variable: 9\n",
      "Actual valor de la variable: 8\n",
      "Actual valor de la variable: 7\n",
      "Actual valor de la variable: 6\n",
      "Actual valor de la variable: 4\n",
      "Actual valor de la variable: 3\n",
      "Actual valor de la variable: 2\n",
      "Actual valor de la variable: 1\n",
      "Actual valor de la variable: 0\n",
      "\n",
      " 5 es el numero que se salta con \"continue\"\n"
     ]
    }
   ],
   "source": [
    "variable = 10\n",
    "salto = []\n",
    "while variable > 0:\n",
    "    variable -= 1\n",
    "    if variable == 5:\n",
    "        salto.append(variable)\n",
    "        continue\n",
    "    print(f\"Actual valor de la variable: {variable}\")\n",
    "print('\\n', f'{5} es el numero que se salta con \"continue\"')"
   ]
  }
 ],
 "metadata": {
  "kernelspec": {
   "display_name": "Python 3",
   "language": "python",
   "name": "python3"
  },
  "language_info": {
   "codemirror_mode": {
    "name": "ipython",
    "version": 3
   },
   "file_extension": ".py",
   "mimetype": "text/x-python",
   "name": "python",
   "nbconvert_exporter": "python",
   "pygments_lexer": "ipython3",
   "version": "3.11.0"
  },
  "orig_nbformat": 4,
  "vscode": {
   "interpreter": {
    "hash": "2698887361352147f5dbab84dff4bf8341ec7fe3dcd9d8499425478a52be94c6"
   }
  }
 },
 "nbformat": 4,
 "nbformat_minor": 2
}
