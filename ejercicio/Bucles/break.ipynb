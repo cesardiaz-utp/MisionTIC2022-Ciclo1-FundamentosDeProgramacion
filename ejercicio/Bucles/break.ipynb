{
 "cells": [
  {
   "attachments": {},
   "cell_type": "markdown",
   "metadata": {},
   "source": [
    "# Sentencia break()"
   ]
  },
  {
   "attachments": {},
   "cell_type": "markdown",
   "metadata": {},
   "source": [
    "Rompe el siclo y de forma abrupta"
   ]
  },
  {
   "cell_type": "code",
   "execution_count": 3,
   "metadata": {},
   "outputs": [
    {
     "name": "stdout",
     "output_type": "stream",
     "text": [
      "Actual valor de variable: 10\n",
      "9\n",
      "Actual valor de variable: 9\n",
      "8\n",
      "Actual valor de variable: 8\n",
      "7\n",
      "Actual valor de variable: 7\n",
      "6\n",
      "Actual valor de variable: 6\n",
      "5\n",
      "Se acabo el ciclo\n"
     ]
    }
   ],
   "source": [
    "variable = 10\n",
    "while variable > 0:\n",
    "    print(f\"Actual valor de variable: {variable}\")\n",
    "    variable -= 1\n",
    "    print(variable)\n",
    "    if variable == 5:\n",
    "        break\n",
    "print(\"Se acabo el ciclo\")"
   ]
  }
 ],
 "metadata": {
  "kernelspec": {
   "display_name": "Python 3",
   "language": "python",
   "name": "python3"
  },
  "language_info": {
   "codemirror_mode": {
    "name": "ipython",
    "version": 3
   },
   "file_extension": ".py",
   "mimetype": "text/x-python",
   "name": "python",
   "nbconvert_exporter": "python",
   "pygments_lexer": "ipython3",
   "version": "3.11.0"
  },
  "orig_nbformat": 4,
  "vscode": {
   "interpreter": {
    "hash": "2698887361352147f5dbab84dff4bf8341ec7fe3dcd9d8499425478a52be94c6"
   }
  }
 },
 "nbformat": 4,
 "nbformat_minor": 2
}
