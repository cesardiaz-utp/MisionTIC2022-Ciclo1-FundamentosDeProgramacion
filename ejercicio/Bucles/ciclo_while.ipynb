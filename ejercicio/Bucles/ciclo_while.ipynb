{
 "cells": [
  {
   "attachments": {},
   "cell_type": "markdown",
   "metadata": {},
   "source": [
    "# CICLOS WHILE"
   ]
  },
  {
   "attachments": {},
   "cell_type": "markdown",
   "metadata": {},
   "source": [
    "<inicializarían> \n",
    "while <condición>    \n",
    "    <Cuerpo>\n",
    "    <avance>"
   ]
  },
  {
   "cell_type": "code",
   "execution_count": 2,
   "metadata": {},
   "outputs": [
    {
     "name": "stdout",
     "output_type": "stream",
     "text": [
      "5\n",
      "4\n",
      "3\n",
      "2\n",
      "1\n",
      "0\n"
     ]
    }
   ],
   "source": [
    "n = 5\n",
    "while n > 0:\n",
    "    print(n)\n",
    "    n = n -1\n",
    "print(n)"
   ]
  },
  {
   "attachments": {},
   "cell_type": "markdown",
   "metadata": {},
   "source": [
    "# Factorial"
   ]
  },
  {
   "cell_type": "code",
   "execution_count": 9,
   "metadata": {},
   "outputs": [
    {
     "name": "stdout",
     "output_type": "stream",
     "text": [
      "93326215443944152681699238856266700490715968264381621468592963895217599993229915608941463976156518286253697920827223758251185210916864000000000000000000000000\n"
     ]
    }
   ],
   "source": [
    "def factorial(n: int) -> int:\n",
    "    if n < 0:\n",
    "        return \"Error\"\n",
    "    resultado = 1\n",
    "    numero_actual = 2\n",
    "    while numero_actual <= n:\n",
    "        resultado *= numero_actual\n",
    "        numero_actual += 1\n",
    "    return resultado\n",
    "\n",
    "print(factorial(100))"
   ]
  },
  {
   "attachments": {},
   "cell_type": "markdown",
   "metadata": {},
   "source": [
    "## Problemas con WHILE()"
   ]
  },
  {
   "attachments": {},
   "cell_type": "markdown",
   "metadata": {},
   "source": [
    "* Alejarse de terminación: \n",
    "* Olvidar el avance\n",
    "* Identacion:\n"
   ]
  },
  {
   "attachments": {},
   "cell_type": "markdown",
   "metadata": {},
   "source": [
    "## Ciclo WHILE() controlado por evento"
   ]
  },
  {
   "cell_type": "code",
   "execution_count": 6,
   "metadata": {},
   "outputs": [
    {
     "name": "stdout",
     "output_type": "stream",
     "text": [
      "5\n",
      "3\n",
      "4\n",
      "5\n",
      "1\n",
      "0\n",
      "Promedio de notas del grado escolar es: 3.0\n"
     ]
    }
   ],
   "source": [
    "promedio = 0.0\n",
    "total = 0\n",
    "contar = 0\n",
    "lista_notas = []\n",
    "nota = int (input(\"Introduzca la nota de un estudiante (-1 para salir)\"))\n",
    "while nota != -1:\n",
    "    lista_notas.append(nota)\n",
    "    total = total + nota\n",
    "    contar += 1\n",
    "    nota = int (input(\"Introduzca la nota de un estudiante (-1 para salir)\"))\n",
    "promedio = total / contar\n",
    "for i in range(0, len(lista_notas)):\n",
    "    print(lista_notas[i])\n",
    "\n",
    "print (f\"Promedio de notas del grado escolar es: {promedio}\")\n",
    "    "
   ]
  }
 ],
 "metadata": {
  "kernelspec": {
   "display_name": "Python 3",
   "language": "python",
   "name": "python3"
  },
  "language_info": {
   "codemirror_mode": {
    "name": "ipython",
    "version": 3
   },
   "file_extension": ".py",
   "mimetype": "text/x-python",
   "name": "python",
   "nbconvert_exporter": "python",
   "pygments_lexer": "ipython3",
   "version": "3.11.0 (main, Oct 24 2022, 18:26:48) [MSC v.1933 64 bit (AMD64)]"
  },
  "orig_nbformat": 4,
  "vscode": {
   "interpreter": {
    "hash": "2698887361352147f5dbab84dff4bf8341ec7fe3dcd9d8499425478a52be94c6"
   }
  }
 },
 "nbformat": 4,
 "nbformat_minor": 2
}
