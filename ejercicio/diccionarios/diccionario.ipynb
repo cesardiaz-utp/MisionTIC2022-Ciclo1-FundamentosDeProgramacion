{
 "cells": [
  {
   "attachments": {},
   "cell_type": "markdown",
   "metadata": {},
   "source": [
    "# DICCIONARIOS"
   ]
  },
  {
   "attachments": {},
   "cell_type": "markdown",
   "metadata": {},
   "source": [
    "## Diccionario vació  "
   ]
  },
  {
   "cell_type": "code",
   "execution_count": 11,
   "metadata": {},
   "outputs": [
    {
     "name": "stdout",
     "output_type": "stream",
     "text": [
      "diccionario vació p: {}\n",
      "{}\n",
      "diccionario vació q: {}\n"
     ]
    }
   ],
   "source": [
    "p = {}\n",
    "q = dict()\n",
    "print(f'diccionario vació p: {p}')\n",
    "print(f'diccionario vació q: {q}')"
   ]
  },
  {
   "attachments": {},
   "cell_type": "markdown",
   "metadata": {},
   "source": [
    "## Diccionario"
   ]
  },
  {
   "cell_type": "code",
   "execution_count": 7,
   "metadata": {},
   "outputs": [
    {
     "name": "stdout",
     "output_type": "stream",
     "text": [
      "{'key': 'value', 'nombre': 'Alberto', 'nacionalidad': 'Colombia', 'edad': 41}\n"
     ]
    }
   ],
   "source": [
    "profesor = {\n",
    "    \"key\": \"value\",\n",
    "    \"nombre\": 'Alberto',\n",
    "    \"nacionalidad\": \"Colombia\",\n",
    "    'edad': 41\n",
    "}\n",
    "\n",
    "print(profesor)"
   ]
  },
  {
   "attachments": {},
   "cell_type": "markdown",
   "metadata": {},
   "source": [
    "## Modificar Diccionario "
   ]
  },
  {
   "cell_type": "code",
   "execution_count": 13,
   "metadata": {},
   "outputs": [
    {
     "name": "stdout",
     "output_type": "stream",
     "text": [
      "{'key': 'value', 'nombre': 'Alberto', 'nacionalidad': 'Colombia', 'edad': 41}\n",
      "{'key': 'value', 'nombre': 'Alberto Jim', 'nacionalidad': 'Colombia', 'edad': 41}\n",
      "{'key': 'value', 'nombre': 'Alberto Jim', 'nacionalidad': 'Colombia', 'edad': 41, 'Nombre': 'Alberto'}\n"
     ]
    }
   ],
   "source": [
    "profesor = {\n",
    "    \"key\": \"value\",\n",
    "    \"nombre\": 'Alberto',\n",
    "    \"nacionalidad\": \"Colombia\",\n",
    "    'edad': 41\n",
    "}\n",
    "# Modificar varo de llave\n",
    "print(profesor) \n",
    "profesor[\"nombre\"] = \"Alberto Jim\"\n",
    "print(profesor) \n",
    "\n",
    "# Crear una nueva llave y valor\n",
    "profesor[\"Nombre\"] = \"Alberto\"\n",
    "print(profesor)\n",
    "\n",
    "# "
   ]
  },
  {
   "attachments": {},
   "cell_type": "markdown",
   "metadata": {},
   "source": [
    "## Operaciones en Diccionario"
   ]
  },
  {
   "cell_type": "code",
   "execution_count": 17,
   "metadata": {},
   "outputs": [
    {
     "name": "stdout",
     "output_type": "stream",
     "text": [
      "{'key': 'value', 'nombre': 'Alberto Quijano', 'nacionalidad': 'Colombia', 'edad': 82}\n",
      "82\n",
      "Alberto Quijano\n"
     ]
    }
   ],
   "source": [
    "profesor = {\n",
    "    \"key\": \"value\",\n",
    "    \"nombre\": 'Alberto',\n",
    "    \"nacionalidad\": \"Colombia\",\n",
    "    'edad': 41\n",
    "}\n",
    "\n",
    "# Operaciones\n",
    "profesor[\"edad\"] *= 2\n",
    "print(profesor)\n",
    "print(profesor[\"edad\"])\n",
    "\n",
    "# Concatenar\n",
    "profesor[\"nombre\"] += \" Quijano\"\n",
    "print(profesor[\"nombre\"])\n"
   ]
  },
  {
   "attachments": {},
   "cell_type": "markdown",
   "metadata": {},
   "source": [
    "## Agregar valores al diccionario"
   ]
  },
  {
   "cell_type": "code",
   "execution_count": 32,
   "metadata": {},
   "outputs": [
    {
     "name": "stdout",
     "output_type": "stream",
     "text": [
      "{'key': 'value', 'nombre': 'Alberto', 'nacionalidad': 'Colombia', 'edad': 41}\n",
      "{'key': 'value', 'nombre': 'Alberto', 'nacionalidad': 'Colombia', 'edad': 41, 'estudiante': {'nombre': 'Angelica', 'nota': 3.5}}\n",
      "{'nombre': 'Angelica', 'nota': 3.5}\n",
      "El estudiante tiene un nota de: 3.5 \n"
     ]
    }
   ],
   "source": [
    "profesor = {\n",
    "    \"key\": \"value\",\n",
    "    \"nombre\": 'Alberto',\n",
    "    \"nacionalidad\": \"Colombia\",\n",
    "    'edad': 41\n",
    "}\n",
    "\n",
    "print(profesor)\n",
    "\n",
    "profesor['estudiante']= {'nombre': 'Angelica', \"nota\": 3.5}\n",
    "print(profesor)\n",
    "print(profesor['estudiante'])\n",
    "print(f\"El estudiante tiene un nota de: {profesor['estudiante']['nota']} \")"
   ]
  },
  {
   "attachments": {},
   "cell_type": "markdown",
   "metadata": {},
   "source": [
    "## Eliminar key"
   ]
  },
  {
   "cell_type": "code",
   "execution_count": 33,
   "metadata": {},
   "outputs": [
    {
     "name": "stdout",
     "output_type": "stream",
     "text": [
      "{'key': 'value', 'nombre': 'Alberto', 'nacionalidad': 'Colombia', 'edad': 41}\n",
      "{'nombre': 'Alberto', 'nacionalidad': 'Colombia', 'edad': 41}\n",
      "{'nombre': 'Alberto', 'nacionalidad': 'Colombia', 'edad': None}\n",
      "El contenido de edad es: None\n",
      "{'nombre': 'Alberto', 'nacionalidad': 'Colombia', 'edad': ''}\n"
     ]
    }
   ],
   "source": [
    "profesor = {\n",
    "    \"key\": \"value\",\n",
    "    \"nombre\": 'Alberto',\n",
    "    \"nacionalidad\": \"Colombia\",\n",
    "    'edad': 41\n",
    "}\n",
    "\n",
    "print(profesor)\n",
    "\n",
    "del profesor['key']\n",
    "print(profesor)\n",
    "\n",
    "profesor['edad'] = None\n",
    "print(profesor)\n",
    "print(f\"El contenido de edad es: {profesor['edad']}\")\n",
    "\n",
    "profesor['edad'] = \"\"\n",
    "print(profesor)"
   ]
  },
  {
   "attachments": {},
   "cell_type": "markdown",
   "metadata": {},
   "source": [
    "## Aplicar una Función con un Diccionario"
   ]
  },
  {
   "cell_type": "code",
   "execution_count": 42,
   "metadata": {},
   "outputs": [
    {
     "name": "stdout",
     "output_type": "stream",
     "text": [
      "El estudiante - Alberto Jim tiene un promedio de: 3.8\n"
     ]
    }
   ],
   "source": [
    "def calcularPromedioEstudiante(estudiante: dict):\n",
    "    promedio = (estudiante[\"nota 1\"] + estudiante[\"nota 2\"] + estudiante[\"nota 3\"] + estudiante[\"nota 4\"]) / 4\n",
    "    \n",
    "    return f\"El estudiante - {estudiante['nombre']} tiene un promedio de: {promedio:.1f}\"\n",
    "\n",
    "alberto = {\n",
    "    \"nombre\": 'Alberto Jim',\n",
    "    \"nota 1\": 3.5,\n",
    "    \"nota 2\": 4.5,\n",
    "    \"nota 3\": 5.0,\n",
    "    \"nota 4\": 2.1,\n",
    "    \n",
    "}\n",
    "\n",
    "print(calcularPromedioEstudiante(alberto))"
   ]
  },
  {
   "attachments": {},
   "cell_type": "markdown",
   "metadata": {},
   "source": [
    "## Crear un diccionario con input()"
   ]
  },
  {
   "cell_type": "code",
   "execution_count": 43,
   "metadata": {},
   "outputs": [
    {
     "name": "stdout",
     "output_type": "stream",
     "text": [
      "Calculo de promedio de notas\n",
      "{'nombre': 'Jim', 'nota 1': 5.0, 'nota 2': 5.0, 'nota 3': 5.0, 'nota 4': 5.0}\n",
      "El estudiante - Jim tiene un promedio de: 5.0\n"
     ]
    }
   ],
   "source": [
    "estudiante = {}\n",
    "print(\"Calculo de promedio de notas\")\n",
    "estudiante[\"nombre\"] = input(\"Ingrese su nombre: \")\n",
    "estudiante[\"nota 1\"] = float( input(\"Ingrese nota 1: \"))\n",
    "estudiante[\"nota 2\"] = float( input(\"Ingrese nota 2: \"))\n",
    "estudiante[\"nota 3\"] = float( input(\"Ingrese nota 3: \"))\n",
    "estudiante[\"nota 4\"] = float( input(\"Ingrese nota 4: \"))\n",
    "print(estudiante)\n",
    "print(calcularPromedioEstudiante(estudiante))"
   ]
  }
 ],
 "metadata": {
  "kernelspec": {
   "display_name": "Python 3",
   "language": "python",
   "name": "python3"
  },
  "language_info": {
   "codemirror_mode": {
    "name": "ipython",
    "version": 3
   },
   "file_extension": ".py",
   "mimetype": "text/x-python",
   "name": "python",
   "nbconvert_exporter": "python",
   "pygments_lexer": "ipython3",
   "version": "3.11.0"
  },
  "orig_nbformat": 4,
  "vscode": {
   "interpreter": {
    "hash": "2698887361352147f5dbab84dff4bf8341ec7fe3dcd9d8499425478a52be94c6"
   }
  }
 },
 "nbformat": 4,
 "nbformat_minor": 2
}
