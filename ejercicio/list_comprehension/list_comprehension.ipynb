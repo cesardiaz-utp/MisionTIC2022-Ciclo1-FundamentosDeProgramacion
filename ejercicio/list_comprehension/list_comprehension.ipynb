{
 "cells": [
  {
   "attachments": {},
   "cell_type": "markdown",
   "metadata": {},
   "source": [
    "# List Comprehension"
   ]
  },
  {
   "attachments": {},
   "cell_type": "markdown",
   "metadata": {},
   "source": [
    "* Lista: [< dato > < recorrido for > < filtro if >]\n",
    "\n",
    "\n",
    "* Tupla: tuple(< dato > < recorrido for > < filtro if >)\n",
    "* Conjunto: {< dato > < recorrido for > < filtro if >}\n",
    "* Diccionario: {< key >:< value > < recorrido for > < filtro if >}"
   ]
  },
  {
   "cell_type": "code",
   "execution_count": 22,
   "metadata": {},
   "outputs": [
    {
     "name": "stdout",
     "output_type": "stream",
     "text": [
      "<class 'list'>\n",
      "[]\n"
     ]
    }
   ],
   "source": [
    "frutas = ['manzana', \"banana\", \"cereza\", \"kiwi\", \"mango\"]\n",
    "print(type(frutas))\n",
    "lista= []\n",
    "for fruta in frutas:\n",
    "    if \"a\" in fruta:\n",
    "        lista.append(fruta)\n",
    "print(lista)        "
   ]
  },
  {
   "cell_type": "code",
   "execution_count": 24,
   "metadata": {},
   "outputs": [
    {
     "name": "stdout",
     "output_type": "stream",
     "text": [
      "<class 'list'>\n",
      "[]\n",
      "['manzana', 'banana', 'cereza', 'mango']\n",
      "['banana', 'cereza', 'kiwi', 'mango']\n"
     ]
    }
   ],
   "source": [
    "frutas = ['manzana', \"banana\", \"cereza\", \"kiwi\", \"mango\"]\n",
    "print(type(frutas))\n",
    "lista_comp_1 = [x for x in frutas if \"a\" in x]\n",
    "lista_comp_2 = [fruta for fruta in frutas if \"a\" in fruta]\n",
    "lista_comp_3 = [x for x in frutas if x != \"manzana\"]\n",
    "\n",
    "\n",
    "print(lista)\n",
    "print(lista_comp_1)\n",
    "print(lista_comp_3)\n"
   ]
  },
  {
   "cell_type": "code",
   "execution_count": 30,
   "metadata": {},
   "outputs": [
    {
     "name": "stdout",
     "output_type": "stream",
     "text": [
      "[0, 1, 2, 3, 4]\n",
      "[0, 1, 2, 3, 4]\n"
     ]
    }
   ],
   "source": [
    "lista= []\n",
    "for numero in range(10) :\n",
    "    if numero < 5:\n",
    "        lista.append(numero)\n",
    "\n",
    "print(lista)\n",
    "lista_comp_2 = [numero for x in range(10) if x < 5]\n",
    "print(lista_comp_1)\n",
    "\n",
    "\n",
    "lista_comp_2 = [x for x in range(10) if x < 5]\n",
    "print(lista_comp_2)\n",
    "        "
   ]
  },
  {
   "cell_type": "code",
   "execution_count": 48,
   "metadata": {},
   "outputs": [
    {
     "name": "stdout",
     "output_type": "stream",
     "text": [
      "['MANZANA', 'BANANA', 'CEREZA', 'KIWI', 'MANGO']\n",
      "['MANZANA', 'BANANA', 'CEREZA', 'KIWI', 'MANGO']\n",
      "['MANZANA', 'BANANA', 'CEREZA', 'KIWI', 'MANGO']\n"
     ]
    }
   ],
   "source": [
    "frutas = ['manzana', \"banana\", \"cereza\", \"kiwi\", \"mango\"]\n",
    "lista = []\n",
    "for fruta in frutas:\n",
    "    lista.append(fruta.upper())\n",
    "print(lista)\n",
    "\n",
    "lista_comp_1 = [fruta.upper() for fruta in frutas]\n",
    "print(lista_comp_1)\n",
    "lista_comp_2 = [x.upper() for x in frutas]\n",
    "print(lista_comp_2)\n",
    "\n"
   ]
  },
  {
   "cell_type": "code",
   "execution_count": 46,
   "metadata": {},
   "outputs": [
    {
     "name": "stdout",
     "output_type": "stream",
     "text": [
      "[30, 50, 70, 50, 70, 90, 70, 90, 110]\n",
      "[30, 50, 70, 50, 70, 90, 70, 90, 110]\n"
     ]
    }
   ],
   "source": [
    "lista_comp_1 = [x + y for x in [10, 30, 50] for y in [20, 40, 60] ]\n",
    "print(lista_comp_1)\n",
    "\n",
    "lista = [] \n",
    "X = [10, 30, 50]\n",
    "Y = [20, 40, 60]\n",
    "for x in [10, 30, 50]:\n",
    "   for y in [20, 40, 60]:\n",
    "        lista.append(x + y)\n",
    "print(lista)\n"
   ]
  },
  {
   "cell_type": "code",
   "execution_count": 57,
   "metadata": {},
   "outputs": [
    {
     "name": "stdout",
     "output_type": "stream",
     "text": [
      "['manzana', 'naranja', 'cereza', 'kiwi', 'mango']\n",
      "['manzana', 'naranja', 'cereza', 'kiwi', 'mango']\n"
     ]
    }
   ],
   "source": [
    "frutas = ['manzana', \"banana\", \"cereza\", \"kiwi\", \"mango\"]\n",
    "lista_comp_1 = [x if x != \"banana\" else \"naranja\"  for x in frutas]\n",
    "\n",
    "\n",
    "frutas = ['manzana', \"banana\", \"cereza\", \"kiwi\", \"mango\"]\n",
    "lista = []\n",
    "for x in frutas:\n",
    "    if x != \"banana\":\n",
    "        lista.append(x)\n",
    "    else:\n",
    "        lista.append(\"naranja\")\n",
    "    \n",
    "    \n",
    "print(lista)\n",
    "print(lista_comp_1)"
   ]
  },
  {
   "cell_type": "code",
   "execution_count": 61,
   "metadata": {},
   "outputs": [
    {
     "name": "stdout",
     "output_type": "stream",
     "text": [
      "['naranja', 'naranja', 'naranja', 'kiwi', 'naranja']\n",
      "['naranja', 'naranja', 'naranja', 'kiwi', 'naranja']\n"
     ]
    }
   ],
   "source": [
    "frutas1 = ['manzana', \"banana\", \"cereza\", \"kiwi\", \"mango\"]\n",
    "lista_comp_1 = [x if \"a\" not in x else \"naranja\" for x in frutas]\n",
    "\n",
    "lista = []\n",
    "for x in frutas:\n",
    "    if \"a\"  not in x:\n",
    "        lista.append(x)\n",
    "    else:\n",
    "        lista.append(\"naranja\")\n",
    "\n",
    "print(lista_comp_1)\n",
    "print(lista)"
   ]
  },
  {
   "cell_type": "code",
   "execution_count": 64,
   "metadata": {},
   "outputs": [
    {
     "name": "stdout",
     "output_type": "stream",
     "text": [
      "['E', 'o', 'e', 'e', 'e', 'e', 'u', 'e', 'e', 'e', 'e', 'a', 'e']\n",
      "['E', 'o', 'e', 'e', 'e', 'e', 'u', 'e', 'e', 'e', 'e', 'a', 'e']\n"
     ]
    }
   ],
   "source": [
    "oracion = \"El cohete de devuelve des de Marte\"\n",
    "vocales = [i for i in oracion if i.lower() in \"aeiou\"]\n",
    "\n",
    "print(vocales)\n",
    "\n",
    "vocales_comp = []\n",
    "\n",
    "for i in oracion:\n",
    "    if  i.lower() in \"aeiou\":\n",
    "        vocales_comp.append(i)\n",
    "\n",
    "print(vocales_comp)"
   ]
  },
  {
   "attachments": {},
   "cell_type": "markdown",
   "metadata": {},
   "source": [
    "# Con conjuntos"
   ]
  },
  {
   "cell_type": "code",
   "execution_count": 65,
   "metadata": {},
   "outputs": [
    {
     "name": "stdout",
     "output_type": "stream",
     "text": [
      "{'a', 'o', 'e', 'u'}\n"
     ]
    }
   ],
   "source": [
    "oracion = 'El cohete se devuelve desde marte'\n",
    "vocales_usadas = {i for i in oracion if i in 'aeiou'}\n",
    "\n",
    "print(vocales_usadas)"
   ]
  },
  {
   "attachments": {},
   "cell_type": "markdown",
   "metadata": {},
   "source": [
    "# Con diccionarios"
   ]
  },
  {
   "cell_type": "code",
   "execution_count": 67,
   "metadata": {},
   "outputs": [
    {
     "name": "stdout",
     "output_type": "stream",
     "text": [
      "{0: 0, 1: 1, 2: 4, 3: 9, 4: 16, 5: 25, 6: 36, 7: 49, 8: 64, 9: 81}\n"
     ]
    }
   ],
   "source": [
    "cuadrados = { i: i ** 2  for i in range(10)}\n",
    "\n",
    "print(cuadrados)"
   ]
  },
  {
   "attachments": {},
   "cell_type": "markdown",
   "metadata": {},
   "source": [
    "# Con tuplas"
   ]
  },
  {
   "cell_type": "code",
   "execution_count": 66,
   "metadata": {},
   "outputs": [
    {
     "name": "stdout",
     "output_type": "stream",
     "text": [
      "('0', '1', '2', '3', '4', '5', '6', '7', '8', '9')\n"
     ]
    }
   ],
   "source": [
    "numeros = tuple(str(i) for i in range(10))\n",
    "\n",
    "print(numeros)"
   ]
  }
 ],
 "metadata": {
  "kernelspec": {
   "display_name": "Python 3",
   "language": "python",
   "name": "python3"
  },
  "language_info": {
   "codemirror_mode": {
    "name": "ipython",
    "version": 3
   },
   "file_extension": ".py",
   "mimetype": "text/x-python",
   "name": "python",
   "nbconvert_exporter": "python",
   "pygments_lexer": "ipython3",
   "version": "3.11.0 (main, Oct 24 2022, 18:26:48) [MSC v.1933 64 bit (AMD64)]"
  },
  "orig_nbformat": 4,
  "vscode": {
   "interpreter": {
    "hash": "2698887361352147f5dbab84dff4bf8341ec7fe3dcd9d8499425478a52be94c6"
   }
  }
 },
 "nbformat": 4,
 "nbformat_minor": 2
}
