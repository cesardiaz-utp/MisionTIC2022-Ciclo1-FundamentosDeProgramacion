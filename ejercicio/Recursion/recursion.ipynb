{
 "cells": [
  {
   "attachments": {},
   "cell_type": "markdown",
   "metadata": {},
   "source": [
    "# RECURSION\n",
    "# Fractales\n",
    "### Curva de Koch\n",
    "### Fractal de Cesaro\n",
    "### La salchicha de Minkowski"
   ]
  },
  {
   "cell_type": "code",
   "execution_count": 2,
   "metadata": {},
   "outputs": [
    {
     "name": "stdout",
     "output_type": "stream",
     "text": [
      "Numero: 10\n",
      "Numero: 9\n",
      "Numero: 8\n",
      "Numero: 7\n",
      "Numero: 6\n",
      "Numero: 5\n",
      "Numero: 4\n",
      "Numero: 3\n",
      "Numero: 2\n",
      "Numero: 1\n",
      "Boooooom!\n",
      "None\n"
     ]
    }
   ],
   "source": [
    "def cuentaRegresiva(numero):\n",
    "    if numero > 0:\n",
    "        print(f\"Numero: {numero}\")\n",
    "        cuentaRegresiva(numero - 1)\n",
    "    else:\n",
    "        print(\"Boooooom!\")\n",
    "print(cuentaRegresiva(10))"
   ]
  },
  {
   "attachments": {},
   "cell_type": "markdown",
   "metadata": {},
   "source": [
    "# Factorial\n",
    "## Definición\n",
    "\n",
    "### factoria(0) = 1\n",
    "### factoria(0) = n * factoria(n - 1)"
   ]
  },
  {
   "cell_type": "code",
   "execution_count": 17,
   "metadata": {},
   "outputs": [
    {
     "name": "stdout",
     "output_type": "stream",
     "text": [
      "120\n",
      "120\n",
      "1\n",
      "Numero Erróneo\n",
      "93326215443944152681699238856266700490715968264381621468592963895217599993229915608941463976156518286253697920827223758251185210916864000000000000000000000000\n"
     ]
    }
   ],
   "source": [
    "def factorial(n):\n",
    "    if n < 0:\n",
    "        return \"Numero Erróneo\"\n",
    "    \n",
    "    elif n == 0:\n",
    "        return 1\n",
    "    else:\n",
    "        return n * factorial(n - 1)\n",
    "\n",
    "print(5*4*3*2*1)\n",
    "print(factorial(5))\n",
    "print(factorial(0))\n",
    "print(factorial(-5))\n"
   ]
  },
  {
   "attachments": {},
   "cell_type": "markdown",
   "metadata": {},
   "source": [
    "# Fibonacci\n",
    "## Definición\n",
    "### finonacci(0) = 0\n",
    "### finonacci(1) = 1\n",
    "### finonacci(n) = finonacci(n - 1) + finonacci(n - 2)\n",
    "#### f(0) =0\n",
    "#### f(1) =1 \n",
    "#### f(2) => f(1) + f(0) => 1+0 = 1\n",
    "#### f(3) => f(2) + f(1) => 1+1 = 2\n",
    "#### f(4) => f(3) + f(2) => 2+1 = 3\n",
    "#### f(5) => f(4) + f(3) => 3+2 = 5\n",
    "#### f(6) => f(5) + f(4) => 5+3 = 8\n",
    "#### f(7) => f(6) + f(5) => 8+5 = 13\n",
    "#### f(8) => f(7) + f(6) => 13+8 = 21\n",
    "#### f(9) => f(8) + f(7) => 21+13 = 34\n",
    "#### f(10) => f(9) + f(8) => 34+21 = 55"
   ]
  },
  {
   "cell_type": "code",
   "execution_count": 19,
   "metadata": {},
   "outputs": [
    {
     "name": "stdout",
     "output_type": "stream",
     "text": [
      "0\n",
      "1\n",
      "1\n",
      "2\n",
      "3\n",
      "5\n",
      "8\n",
      "13\n",
      "21\n",
      "34\n",
      "55\n"
     ]
    }
   ],
   "source": [
    "def fibonacci(n):\n",
    "    if n < 0:\n",
    "        return \"Numero erróneo\"\n",
    "    \n",
    "    elif n == 0:\n",
    "        return 0\n",
    "    \n",
    "    elif n == 1:\n",
    "        return 1\n",
    "    \n",
    "    else:\n",
    "        return fibonacci(n - 1) + fibonacci(n - 2)\n",
    "\n",
    "print(fibonacci(0))\n",
    "print(fibonacci(1))\n",
    "print(fibonacci(2))\n",
    "print(fibonacci(3))\n",
    "print(fibonacci(4))\n",
    "print(fibonacci(5))\n",
    "print(fibonacci(6))\n",
    "print(fibonacci(7))\n",
    "print(fibonacci(8))\n",
    "print(fibonacci(9))\n",
    "print(fibonacci(10))\n"
   ]
  },
  {
   "attachments": {},
   "cell_type": "markdown",
   "metadata": {},
   "source": [
    "# Máximo común divisor\n",
    "## mcd(x, y):-\n",
    "##   si y == 0 ==> x\n",
    "##   si y > 0 ^ x >= y ==> mcd(y, mod(x, y))"
   ]
  },
  {
   "cell_type": "code",
   "execution_count": 21,
   "metadata": {},
   "outputs": [
    {
     "name": "stdout",
     "output_type": "stream",
     "text": [
      "9\n"
     ]
    }
   ],
   "source": [
    "def mcd(x, y):\n",
    "    if y < 0:\n",
    "        return \"No puede buscar divisores en un numero negativo\"\n",
    "    if y == 0:\n",
    "        return x\n",
    "    elif x >= y:\n",
    "        return mcd(y, x % y)\n",
    "    else:\n",
    "        return mcd(y, x)\n",
    "\n",
    "print(mcd(558, 315))\n",
    "    \n",
    "    \n",
    "    "
   ]
  },
  {
   "attachments": {},
   "cell_type": "markdown",
   "metadata": {},
   "source": [
    "# Numero primos\n"
   ]
  }
 ],
 "metadata": {
  "kernelspec": {
   "display_name": "Python 3",
   "language": "python",
   "name": "python3"
  },
  "language_info": {
   "codemirror_mode": {
    "name": "ipython",
    "version": 3
   },
   "file_extension": ".py",
   "mimetype": "text/x-python",
   "name": "python",
   "nbconvert_exporter": "python",
   "pygments_lexer": "ipython3",
   "version": "3.11.0"
  },
  "orig_nbformat": 4,
  "vscode": {
   "interpreter": {
    "hash": "2698887361352147f5dbab84dff4bf8341ec7fe3dcd9d8499425478a52be94c6"
   }
  }
 },
 "nbformat": 4,
 "nbformat_minor": 2
}
