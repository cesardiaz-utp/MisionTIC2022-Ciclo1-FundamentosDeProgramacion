{
 "cells": [
  {
   "attachments": {},
   "cell_type": "markdown",
   "metadata": {},
   "source": [
    "# CADENAS o String"
   ]
  },
  {
   "attachments": {},
   "cell_type": "markdown",
   "metadata": {},
   "source": [
    "## Caracteres especiales"
   ]
  },
  {
   "cell_type": "code",
   "execution_count": 5,
   "metadata": {},
   "outputs": [
    {
     "name": "stdout",
     "output_type": "stream",
     "text": [
      "Las comillas dobles (\") delimitan cadenas.\n",
      "Las comillas dobles (\") delimitan cadenas.\n",
      "Las comillas sencillas (') delimitan cadenas.\n",
      "Las comillas sencillas (') delimitan cadenas.\n"
     ]
    }
   ],
   "source": [
    "print(\"Las comillas dobles (\\\") delimitan cadenas.\" )\n",
    "print('Las comillas dobles (\") delimitan cadenas.' )\n",
    "print(\"Las comillas sencillas (') delimitan cadenas.\" )\n",
    "print('Las comillas sencillas (\\') delimitan cadenas.' )"
   ]
  },
  {
   "cell_type": "code",
   "execution_count": 6,
   "metadata": {},
   "outputs": [
    {
     "name": "stdout",
     "output_type": "stream",
     "text": [
      "Una linea\n",
      "Otra linea\n",
      "Una linea\n",
      " Otra linea\n"
     ]
    }
   ],
   "source": [
    "print(\"Una linea\\nOtra linea\")\n",
    "print(\"Una linea\\n Otra linea\")"
   ]
  },
  {
   "cell_type": "code",
   "execution_count": 10,
   "metadata": {},
   "outputs": [
    {
     "name": "stdout",
     "output_type": "stream",
     "text": [
      "1\t2\t3\n",
      "37\t52\t100\n"
     ]
    }
   ],
   "source": [
    "print('1\\t2\\t3')\n",
    "print('37\\t52\\t100')"
   ]
  },
  {
   "cell_type": "code",
   "execution_count": 13,
   "metadata": {},
   "outputs": [
    {
     "name": "stdout",
     "output_type": "stream",
     "text": [
      "c:\\usuario\\alberto\\escribe\n"
     ]
    }
   ],
   "source": [
    "print(\"c:\\\\usuario\\\\alberto\\\\escribe\")\n"
   ]
  },
  {
   "attachments": {},
   "cell_type": "markdown",
   "metadata": {},
   "source": [
    "# Conjunto de caracteres"
   ]
  },
  {
   "cell_type": "code",
   "execution_count": 15,
   "metadata": {},
   "outputs": [
    {
     "name": "stdout",
     "output_type": "stream",
     "text": [
      "A\n",
      "t\n"
     ]
    }
   ],
   "source": [
    "nombre = \"Alberto\"\n",
    "letra = nombre[0]\n",
    "print(letra)\n",
    "letra = nombre[5]\n",
    "print(letra)"
   ]
  },
  {
   "attachments": {},
   "cell_type": "markdown",
   "metadata": {},
   "source": [
    "## Obtener caracteres de una cadena"
   ]
  },
  {
   "cell_type": "code",
   "execution_count": 24,
   "metadata": {},
   "outputs": [
    {
     "name": "stdout",
     "output_type": "stream",
     "text": [
      "cadena[0]:  e\n",
      "tamaño de la cadena es: 28 \n",
      "cadena[len(cadena)-1]: a\n",
      "cadena[-1]: a\n"
     ]
    }
   ],
   "source": [
    "cadena = \"esto es una cadena muy larga\"\n",
    "print(\"cadena[0]: \", cadena[0])\n",
    "print(f\"tamaño de la cadena es: {len(cadena)} \")\n",
    "print(f\"cadena[len(cadena)-1]: {cadena[len(cadena)-1]}\" )\n",
    "print(f\"cadena[-1]: {cadena[-1]}\" )"
   ]
  },
  {
   "attachments": {},
   "cell_type": "markdown",
   "metadata": {},
   "source": [
    "## Sub Cadenas"
   ]
  },
  {
   "cell_type": "code",
   "execution_count": 30,
   "metadata": {},
   "outputs": [
    {
     "name": "stdout",
     "output_type": "stream",
     "text": [
      "esto es una cadena muy larga\n",
      "cadena[0:10]: esto es un\n",
      "'sto '\n",
      "cadena[:15]: esto es una cad\n",
      "cadena[15:]: ena muy larga\n",
      "cadena[15:15]: \n",
      "cadena[-5:-1]: larg\n"
     ]
    }
   ],
   "source": [
    "cadena = \"esto es una cadena muy larga\"\n",
    "print(cadena)\n",
    "print(f\"cadena[0:10]: {cadena[0:10]}\")\n",
    "print(f\"'{cadena[1:5]}'\")\n",
    "print(f\"cadena[:15]: {cadena[:15]}\")\n",
    "print(f\"cadena[15:]: {cadena[15:]}\")\n",
    "print(f\"cadena[15:15]: {cadena[15:15]}\")\n",
    "print(f\"cadena[-5:-1]: {cadena[-5:-1]}\")"
   ]
  },
  {
   "attachments": {},
   "cell_type": "markdown",
   "metadata": {},
   "source": [
    "## Operadores"
   ]
  },
  {
   "cell_type": "code",
   "execution_count": 31,
   "metadata": {},
   "outputs": [
    {
     "name": "stdout",
     "output_type": "stream",
     "text": [
      "Hola Mundo\n"
     ]
    }
   ],
   "source": [
    "# Concatenas\n",
    "print(\"Hola \" + \"Mundo\")\n",
    "\n",
    "\n"
   ]
  },
  {
   "cell_type": "code",
   "execution_count": 33,
   "metadata": {},
   "outputs": [
    {
     "name": "stdout",
     "output_type": "stream",
     "text": [
      "Hola Hola Hola \n"
     ]
    }
   ],
   "source": [
    "# repetir cadenas\n",
    "print(\"Hola \" * 3)"
   ]
  },
  {
   "cell_type": "code",
   "execution_count": 34,
   "metadata": {},
   "outputs": [
    {
     "name": "stdout",
     "output_type": "stream",
     "text": [
      "Hola Alberto\n",
      "Hola Alberto\n"
     ]
    }
   ],
   "source": [
    "# formatear cadena\n",
    "nombre = \"Alberto\"\n",
    "print(\"Hola %s\" % nombre)\n",
    "print(f\"Hola {nombre}\")"
   ]
  },
  {
   "attachments": {},
   "cell_type": "markdown",
   "metadata": {},
   "source": [
    "## Funciones de cadenas"
   ]
  },
  {
   "cell_type": "code",
   "execution_count": 49,
   "metadata": {},
   "outputs": [
    {
     "name": "stdout",
     "output_type": "stream",
     "text": [
      "Esto es una Cadena Muy Larga. y esto?\n",
      "cadena.capitalize(): Esto es una cadena muy larga. y esto?\n",
      "cadena.upper(): ESTO ES UNA CADENA MUY LARGA. Y ESTO?\n",
      "cadena.lower(): esto es una cadena muy larga. y esto?\n",
      "cadena.split(): ['Esto', 'es', 'una', 'Cadena', 'Muy', 'Larga.', 'y', 'esto?']\n",
      "cadena.split('.'): ['Esto es una Cadena Muy Larga', ' y esto?']\n",
      "    Esto es una Cadena Muy Larga. y    esto?   \n",
      "cadena.strip(): Esto es una Cadena Muy Larga. y    esto?\n",
      "##Esto es una Cadena Muy Larga. y  ##  esto?###\n",
      "cadena.strip('#'): Esto es una Cadena Muy Larga. y  ##  esto?\n"
     ]
    }
   ],
   "source": [
    "cadena = \"Esto es una Cadena Muy Larga. y esto?\"\n",
    "print(cadena)\n",
    "print(f\"cadena.capitalize(): {cadena.capitalize()}\")\n",
    "print(f\"cadena.upper(): {cadena.upper()}\")\n",
    "print(f\"cadena.lower(): {cadena.lower()}\")\n",
    "print(f\"cadena.split(): {cadena.split()}\")\n",
    "print(f\"cadena.split('.'): {cadena.split('.')}\")\n",
    "\n",
    "cadena = \"    Esto es una Cadena Muy Larga. y    esto?   \"\n",
    "print(cadena)\n",
    "print(f\"cadena.strip(): {cadena.strip()}\")\n",
    "\n",
    "cadena = \"##Esto es una Cadena Muy Larga. y  ##  esto?###\"\n",
    "print(cadena)\n",
    "print(f\"cadena.strip('#'): {cadena.strip('#')}\")"
   ]
  },
  {
   "attachments": {},
   "cell_type": "markdown",
   "metadata": {},
   "source": [
    "## Búsqueda de cadenas"
   ]
  },
  {
   "cell_type": "code",
   "execution_count": 55,
   "metadata": {},
   "outputs": [
    {
     "name": "stdout",
     "output_type": "stream",
     "text": [
      "Esto es una Cadena Muy Larga. y esto de?\n",
      "cadena.find('d'): 14\n",
      "cadena.find('es'): 5\n",
      "cadena.find(' es '): 4\n"
     ]
    }
   ],
   "source": [
    "cadena = \"Esto es una Cadena Muy Larga. y esto de?\"\n",
    "print(cadena)\n",
    "print(f\"cadena.find('d'): {cadena.find('d')}\")\n",
    "print(f\"cadena.find('es'): {cadena.find('es')}\")\n",
    "print(f\"cadena.find(' es '): {cadena.find(' es ')}\")"
   ]
  },
  {
   "attachments": {},
   "cell_type": "markdown",
   "metadata": {},
   "source": [
    "## Ejercicio  \n",
    "Separemos la cadena en 2 partes por el carácter '.' Punto, donde cada parte debe estar con mayúscula inicial. "
   ]
  },
  {
   "cell_type": "code",
   "execution_count": 59,
   "metadata": {},
   "outputs": [
    {
     "name": "stdout",
     "output_type": "stream",
     "text": [
      "Esto es una Cadena Muy Larga. y esto de?\n",
      "cadena.find('.'): 28\n",
      "cadena[:pos_punto].capitalize(): Esto es una cadena muy larga\n",
      "cadena[pos_punto+1:].strip().capitalize(): Y esto de?\n"
     ]
    }
   ],
   "source": [
    "cadena = \"Esto es una Cadena Muy Larga. y esto de?\"\n",
    "print(cadena)\n",
    "\n",
    "pos_punto = cadena.find('.')\n",
    "print(f\"cadena.find('.'): {pos_punto}\")\n",
    "\n",
    "parte_1 = cadena[:pos_punto].capitalize()\n",
    "print(f\"cadena[:pos_punto].capitalize(): {parte_1}\")\n",
    "\n",
    "parte_2 = cadena[pos_punto+1:].strip().capitalize()\n",
    "print(f\"cadena[pos_punto+1:].strip().capitalize(): {parte_2}\")"
   ]
  },
  {
   "attachments": {},
   "cell_type": "markdown",
   "metadata": {},
   "source": [
    "## Iterar por una cadena con salto"
   ]
  },
  {
   "cell_type": "code",
   "execution_count": 63,
   "metadata": {},
   "outputs": [
    {
     "name": "stdout",
     "output_type": "stream",
     "text": [
      "Hola, como estas tu?\n",
      "mensaje[::3]: Hacossu\n",
      "mensaje[::-1]: ?ut satse omoc ,aloH\n"
     ]
    }
   ],
   "source": [
    "mensaje = \"Hola, como estas tu?\"\n",
    "print(mensaje)\n",
    "print(f\"mensaje[::3]: {mensaje[::3]}\")\n",
    "print(f\"mensaje[::-1]: {mensaje[::-1]}\")"
   ]
  }
 ],
 "metadata": {
  "kernelspec": {
   "display_name": "Python 3",
   "language": "python",
   "name": "python3"
  },
  "language_info": {
   "codemirror_mode": {
    "name": "ipython",
    "version": 3
   },
   "file_extension": ".py",
   "mimetype": "text/x-python",
   "name": "python",
   "nbconvert_exporter": "python",
   "pygments_lexer": "ipython3",
   "version": "3.11.0 (main, Oct 24 2022, 18:26:48) [MSC v.1933 64 bit (AMD64)]"
  },
  "orig_nbformat": 4,
  "vscode": {
   "interpreter": {
    "hash": "2698887361352147f5dbab84dff4bf8341ec7fe3dcd9d8499425478a52be94c6"
   }
  }
 },
 "nbformat": 4,
 "nbformat_minor": 2
}
