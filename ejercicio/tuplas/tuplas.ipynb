{
 "cells": [
  {
   "attachments": {},
   "cell_type": "markdown",
   "metadata": {},
   "source": [
    "# TUPLAS"
   ]
  },
  {
   "attachments": {},
   "cell_type": "markdown",
   "metadata": {},
   "source": [
    "## Creación de una tupla()"
   ]
  },
  {
   "cell_type": "code",
   "execution_count": 2,
   "metadata": {},
   "outputs": [
    {
     "name": "stdout",
     "output_type": "stream",
     "text": [
      "()\n"
     ]
    }
   ],
   "source": [
    "tupla = tuple()\n",
    "print(tupla)\n"
   ]
  },
  {
   "cell_type": "code",
   "execution_count": 3,
   "metadata": {},
   "outputs": [
    {
     "name": "stdout",
     "output_type": "stream",
     "text": [
      "('a', 'b', 'c', 'd', 'e', 7)\n"
     ]
    }
   ],
   "source": [
    "tupla = 'a', 'b', 'c', 'd', 'e', 7\n",
    "print(tupla)"
   ]
  },
  {
   "cell_type": "code",
   "execution_count": 5,
   "metadata": {},
   "outputs": [
    {
     "name": "stdout",
     "output_type": "stream",
     "text": [
      "('También esto es una tupla', 'a', 'b', 'c', 'd', 'e', 7)\n"
     ]
    }
   ],
   "source": [
    "tupla = ('También esto es una tupla', 'a', 'b', 'c', 'd', 'e', 7)\n",
    "print(tupla)"
   ]
  },
  {
   "cell_type": "code",
   "execution_count": 6,
   "metadata": {},
   "outputs": [
    {
     "name": "stdout",
     "output_type": "stream",
     "text": [
      "('l', 'u', 'p', 'i', 'n', 'a', 's')\n"
     ]
    }
   ],
   "source": [
    "tupla = tuple(\"lupinas\")\n",
    "print(tupla)"
   ]
  },
  {
   "cell_type": "code",
   "execution_count": 13,
   "metadata": {},
   "outputs": [
    {
     "name": "stdout",
     "output_type": "stream",
     "text": [
      "<class 'list'>\n",
      "['have', 'fun', 'nice', 'day'] \n",
      "\n",
      "<class 'tuple'>\n",
      "('have', 'fun', 'nice', 'day')\n"
     ]
    }
   ],
   "source": [
    "lista = ['have', 'fun', 'nice', 'day']\n",
    "print(type(lista))\n",
    "print(lista, \"\\n\")\n",
    "tupla = tuple(lista)\n",
    "print(type(tupla))\n",
    "print(tupla)"
   ]
  },
  {
   "attachments": {},
   "cell_type": "markdown",
   "metadata": {},
   "source": [
    "## Asignación de valores a una tupla"
   ]
  },
  {
   "cell_type": "code",
   "execution_count": 14,
   "metadata": {},
   "outputs": [
    {
     "name": "stdout",
     "output_type": "stream",
     "text": [
      "1\n",
      "5\n"
     ]
    }
   ],
   "source": [
    "x, y = (1, 5)\n",
    "print(x)\n",
    "print(y)"
   ]
  },
  {
   "cell_type": "code",
   "execution_count": 17,
   "metadata": {},
   "outputs": [
    {
     "name": "stdout",
     "output_type": "stream",
     "text": [
      "have\n",
      "fun\n"
     ]
    }
   ],
   "source": [
    "m = ['have', 'fun']\n",
    "x, y = m\n",
    "print(x)\n",
    "print(y)"
   ]
  },
  {
   "cell_type": "code",
   "execution_count": 19,
   "metadata": {},
   "outputs": [
    {
     "name": "stdout",
     "output_type": "stream",
     "text": [
      "aljiquita\n",
      "gmail.com\n"
     ]
    }
   ],
   "source": [
    "addr = \"aljiquita@gmail.com\"\n",
    "uname, domain = addr.split(\"@\")\n",
    "print(uname)\n",
    "print(domain)"
   ]
  },
  {
   "cell_type": "code",
   "execution_count": 22,
   "metadata": {},
   "outputs": [
    {
     "name": "stdout",
     "output_type": "stream",
     "text": [
      "Alberto Quijano 41 True\n"
     ]
    }
   ],
   "source": [
    "linea = \"Alberto;Quijano;41;True\"\n",
    "nombre, apellido, edad, estado = linea.split(sep= ';')\n",
    "print(nombre, apellido, int(edad), bool(estado))\n"
   ]
  },
  {
   "attachments": {},
   "cell_type": "markdown",
   "metadata": {},
   "source": [
    "## Navegando en una tupla"
   ]
  },
  {
   "cell_type": "code",
   "execution_count": 23,
   "metadata": {},
   "outputs": [
    {
     "name": "stdout",
     "output_type": "stream",
     "text": [
      "(1, 2.5, 'misión', [5, 6], {'nombre': 'Alberto', 'apellido': 'Quijano'}, True)\n"
     ]
    }
   ],
   "source": [
    "tupla = (1, 2.5, \"misión\", [5, 6], {\"nombre\": 'Alberto', 'apellido': 'Quijano'}, True)\n",
    "print(tupla)"
   ]
  },
  {
   "cell_type": "code",
   "execution_count": 37,
   "metadata": {},
   "outputs": [
    {
     "name": "stdout",
     "output_type": "stream",
     "text": [
      "1\n",
      "n\n",
      "6\n",
      "Alberto \n",
      "\n",
      "<class 'tuple'>\n",
      "('misión', [5, 6], {'nombre': 'Alberto', 'apellido': 'Quijano'})\n",
      "(1, 'misión', {'nombre': 'Alberto', 'apellido': 'Quijano'})\n",
      "(2.5, [5, 6], True)\n"
     ]
    }
   ],
   "source": [
    "print(tupla[0])\n",
    "print(tupla[2][5])\n",
    "print(tupla[3][1])\n",
    "print(tupla[4]['nombre'], '\\n')\n",
    "print(type(tupla[2:5]))\n",
    "print(tupla[2:5])\n",
    "print(tupla[::2])\n",
    "print(tupla[1::2])"
   ]
  },
  {
   "cell_type": "code",
   "execution_count": 38,
   "metadata": {},
   "outputs": [
    {
     "name": "stdout",
     "output_type": "stream",
     "text": [
      "['__add__', '__class__', '__class_getitem__', '__contains__', '__delattr__', '__dir__', '__doc__', '__eq__', '__format__', '__ge__', '__getattribute__', '__getitem__', '__getnewargs__', '__getstate__', '__gt__', '__hash__', '__init__', '__init_subclass__', '__iter__', '__le__', '__len__', '__lt__', '__mul__', '__ne__', '__new__', '__reduce__', '__reduce_ex__', '__repr__', '__rmul__', '__setattr__', '__sizeof__', '__str__', '__subclasshook__', 'count', 'index']\n"
     ]
    }
   ],
   "source": [
    "print(dir(tuple()))"
   ]
  },
  {
   "attachments": {},
   "cell_type": "markdown",
   "metadata": {},
   "source": [
    "## Ejemplos"
   ]
  },
  {
   "attachments": {},
   "cell_type": "markdown",
   "metadata": {},
   "source": [
    "## 1- Recorrer una tupla"
   ]
  },
  {
   "cell_type": "code",
   "execution_count": 41,
   "metadata": {},
   "outputs": [
    {
     "name": "stdout",
     "output_type": "stream",
     "text": [
      "127.0.0.1\n",
      "5432\n",
      "root\n",
      "nomina\n",
      "el comado PostgreAQL es: $ psql -h 127.0.0.1 -p 5432 -u root -d 127.0.0.1\n"
     ]
    }
   ],
   "source": [
    "db_connection = \"127.0.0.1\", '5432', 'root', 'nomina'\n",
    "for parametro in db_connection:\n",
    "    print(parametro)\n",
    "print(f\"el comando PostgreAQL es: $ psql -h {db_connection[0]} -p {db_connection[1]} -u {db_connection[2]} -d {db_connection[0]}\")\n"
   ]
  },
  {
   "attachments": {},
   "cell_type": "markdown",
   "metadata": {},
   "source": [
    "## 2- Obtener la lista de palabras de un texto ordenado de la mas larga a la mas corta y alfabéticamente descendente"
   ]
  },
  {
   "cell_type": "code",
   "execution_count": 55,
   "metadata": {},
   "outputs": [
    {
     "name": "stdout",
     "output_type": "stream",
     "text": [
      "[(3, 'but'), (4, 'soft'), (4, 'what'), (5, 'light'), (2, 'in'), (6, 'yonder'), (6, 'window'), (6, 'breaks')] \n",
      "\n",
      "[(6, 'yonder'), (6, 'window'), (6, 'breaks'), (5, 'light'), (4, 'what'), (4, 'soft'), (3, 'but'), (2, 'in')] \n",
      "\n",
      "['yonder', 'window', 'breaks', 'light', 'what', 'soft', 'but', 'in']\n"
     ]
    }
   ],
   "source": [
    "txt = \"but soft what light in yonder window breaks\"\n",
    "words = txt.split() \n",
    "l = list()\n",
    "for word in words:\n",
    "    l.append((len(word), word))\n",
    "print(l, '\\n')\n",
    "l.sort(reverse=True)\n",
    "print(l, '\\n')\n",
    "\n",
    "res = list()\n",
    "for length, word in l:\n",
    "    res.append(word)\n",
    "print(res)\n",
    "\n",
    "\n"
   ]
  }
 ],
 "metadata": {
  "kernelspec": {
   "display_name": "Python 3",
   "language": "python",
   "name": "python3"
  },
  "language_info": {
   "codemirror_mode": {
    "name": "ipython",
    "version": 3
   },
   "file_extension": ".py",
   "mimetype": "text/x-python",
   "name": "python",
   "nbconvert_exporter": "python",
   "pygments_lexer": "ipython3",
   "version": "3.11.0"
  },
  "orig_nbformat": 4,
  "vscode": {
   "interpreter": {
    "hash": "2698887361352147f5dbab84dff4bf8341ec7fe3dcd9d8499425478a52be94c6"
   }
  }
 },
 "nbformat": 4,
 "nbformat_minor": 2
}
